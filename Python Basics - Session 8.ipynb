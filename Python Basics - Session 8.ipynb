{
 "cells": [
  {
   "cell_type": "markdown",
   "id": "b0b346f4",
   "metadata": {},
   "source": [
    "<p align=\"center\"><img src = \"https://upload.wikimedia.org/wikipedia/commons/thumb/f/f8/Python_logo_and_wordmark.svg/2560px-Python_logo_and_wordmark.svg.png\" width=\"200\" height=\"auto\" style=\"display: block;margin-left: auto;margin-right: auto;margin-bottom:-30px\" /></p>\n",
    "<h1 align=\"center\" style=\"font-family:Calibri;color:#407daf;margin-left: 50px;text-align: center;\">Introduction to python</h1>\n",
    "<h2 align=\"center\" style=\"font-family:Calibri;color:#ffe262;margin-left: 50px;margin-top: 0px;text-align: center;\">Koorosh Komeilizadeh</h2>\n",
    "<p align=\"center\"><img src = \"https://www.irangi.org/uploads/images/4_1560089256_1291127534.png\" style=\"  -webkit-filter: drop-shadow(1px 1px 0 white)\n",
    "                  drop-shadow(-1px -1px 0 white);\n",
    "  filter: drop-shadow(1px 1px 0 white) \n",
    "          drop-shadow(-1px -1px 0 white);display: block;margin-left: auto;margin-right: auto;margin-top:15px\" width=\"250\" height=\"auto\"/></p>\n",
    "<h1 align=\"center\" style=\"margin-left:50px;\">Session 8</h1>"
   ]
  },
  {
   "cell_type": "markdown",
   "id": "3298651d",
   "metadata": {},
   "source": [
    "## Map\n",
    "Do a function on all list items<br>\n",
    "map(func, list)"
   ]
  },
  {
   "cell_type": "code",
   "execution_count": 1,
   "id": "6c5ddd43",
   "metadata": {
    "tags": []
   },
   "outputs": [
    {
     "name": "stdout",
     "output_type": "stream",
     "text": [
      "[1, 2, 3, 4, 5]\n"
     ]
    }
   ],
   "source": [
    "mylist = [1,2,3,4,5]\n",
    "\n",
    "print(mylist)"
   ]
  },
  {
   "cell_type": "code",
   "execution_count": 2,
   "id": "89ef3d49",
   "metadata": {
    "tags": []
   },
   "outputs": [
    {
     "name": "stdout",
     "output_type": "stream",
     "text": [
      "[5, 8, 11, 14, 17]\n"
     ]
    }
   ],
   "source": [
    "for i in range(len(mylist)):\n",
    "    mylist[i] = mylist[i]*3 + 2\n",
    "\n",
    "print(mylist)"
   ]
  },
  {
   "cell_type": "code",
   "execution_count": 3,
   "id": "a12150b5",
   "metadata": {
    "tags": []
   },
   "outputs": [
    {
     "data": {
      "text/plain": [
       "[5, 8, 11, 14, 17]"
      ]
     },
     "execution_count": 3,
     "metadata": {},
     "output_type": "execute_result"
    }
   ],
   "source": [
    "mylist = [1,2,3,4,5]\n",
    "\n",
    "def func(x):\n",
    "    return x*3 + 2\n",
    "\n",
    "list(map(func, mylist))"
   ]
  },
  {
   "cell_type": "markdown",
   "id": "4cadf2a5",
   "metadata": {},
   "source": [
    "## Lambda Function\n",
    "Anonymous functions\n",
    "\n",
    "lambda arg: expression"
   ]
  },
  {
   "cell_type": "code",
   "execution_count": 4,
   "id": "3ce3a3d0",
   "metadata": {
    "tags": []
   },
   "outputs": [],
   "source": [
    "myfunc = lambda x : x**2"
   ]
  },
  {
   "cell_type": "code",
   "execution_count": 5,
   "id": "6db528e2",
   "metadata": {
    "tags": []
   },
   "outputs": [
    {
     "data": {
      "text/plain": [
       "9"
      ]
     },
     "execution_count": 5,
     "metadata": {},
     "output_type": "execute_result"
    }
   ],
   "source": [
    "myfunc(3)"
   ]
  },
  {
   "cell_type": "code",
   "execution_count": 6,
   "id": "ab8cc610",
   "metadata": {
    "tags": []
   },
   "outputs": [],
   "source": [
    "mylist = [1,2,3,4,5]"
   ]
  },
  {
   "cell_type": "code",
   "execution_count": 7,
   "id": "0df77647",
   "metadata": {
    "tags": []
   },
   "outputs": [
    {
     "data": {
      "text/plain": [
       "[5, 8, 11, 14, 17]"
      ]
     },
     "execution_count": 7,
     "metadata": {},
     "output_type": "execute_result"
    }
   ],
   "source": [
    "list(map(lambda x: x*3 + 2 , mylist))"
   ]
  },
  {
   "cell_type": "code",
   "execution_count": 9,
   "id": "1039521f",
   "metadata": {
    "tags": []
   },
   "outputs": [],
   "source": [
    "numbers = [2,44,193,22,5,11,102,23,21,302]"
   ]
  },
  {
   "cell_type": "code",
   "execution_count": 10,
   "id": "73657dfb",
   "metadata": {
    "tags": []
   },
   "outputs": [
    {
     "data": {
      "text/plain": [
       "['Small',\n",
       " 'Small',\n",
       " 'Big',\n",
       " 'Small',\n",
       " 'Small',\n",
       " 'Small',\n",
       " 'Big',\n",
       " 'Small',\n",
       " 'Small',\n",
       " 'Big']"
      ]
     },
     "execution_count": 10,
     "metadata": {},
     "output_type": "execute_result"
    }
   ],
   "source": [
    "list(map(lambda n: \"Big\" if n>100 else \"Small\" , numbers))"
   ]
  },
  {
   "cell_type": "markdown",
   "id": "9af460d8",
   "metadata": {},
   "source": [
    "### Filter"
   ]
  },
  {
   "cell_type": "markdown",
   "id": "7bc4240e",
   "metadata": {},
   "source": [
    "filter(func,list)\n",
    "filter items with functional condition"
   ]
  },
  {
   "cell_type": "code",
   "execution_count": 11,
   "id": "c7e3ae3c-d8c5-49e6-b9a5-000410e1b2d1",
   "metadata": {
    "tags": []
   },
   "outputs": [
    {
     "data": {
      "text/plain": [
       "[2, 44, 193, 22, 5, 11, 102, 23, 21, 302]"
      ]
     },
     "execution_count": 11,
     "metadata": {},
     "output_type": "execute_result"
    }
   ],
   "source": [
    "numbers"
   ]
  },
  {
   "cell_type": "code",
   "execution_count": 12,
   "id": "2ff422b4",
   "metadata": {
    "tags": []
   },
   "outputs": [
    {
     "data": {
      "text/plain": [
       "[2, 44, 22, 5, 11, 23, 21]"
      ]
     },
     "execution_count": 12,
     "metadata": {},
     "output_type": "execute_result"
    }
   ],
   "source": [
    "list(filter(lambda n: n < 100 , numbers))"
   ]
  },
  {
   "cell_type": "code",
   "execution_count": 13,
   "id": "fb2c1e61",
   "metadata": {
    "tags": []
   },
   "outputs": [
    {
     "data": {
      "text/plain": [
       "[2, 44, 22, 102, 302]"
      ]
     },
     "execution_count": 13,
     "metadata": {},
     "output_type": "execute_result"
    }
   ],
   "source": [
    "list(filter(lambda n: n%2 == 0 , numbers))"
   ]
  },
  {
   "cell_type": "markdown",
   "id": "79ff8c5b",
   "metadata": {},
   "source": [
    "## Python Try Except\n",
    "\n",
    "The __try__ block lets you test a block of code for errors.\n",
    "\n",
    "The __except__ block lets you handle the error.\n",
    "\n",
    "The __else__ block lets you execute code when there is no error.\n",
    "\n",
    "The __finally__ block lets you execute code, regardless of the result of the try- and except blocks."
   ]
  },
  {
   "cell_type": "markdown",
   "id": "1ede8635",
   "metadata": {},
   "source": [
    "#### Exception Handling"
   ]
  },
  {
   "cell_type": "code",
   "execution_count": 15,
   "id": "61e0492b",
   "metadata": {
    "tags": []
   },
   "outputs": [
    {
     "name": "stdout",
     "output_type": "stream",
     "text": [
      "An exception occurred\n"
     ]
    }
   ],
   "source": [
    "try:\n",
    "  print(abcd)\n",
    "except:\n",
    "  print(\"An exception occurred\")"
   ]
  },
  {
   "cell_type": "code",
   "execution_count": 16,
   "id": "8636229a",
   "metadata": {
    "tags": []
   },
   "outputs": [
    {
     "ename": "NameError",
     "evalue": "name 'abcd' is not defined",
     "output_type": "error",
     "traceback": [
      "\u001b[1;31m---------------------------------------------------------------------------\u001b[0m",
      "\u001b[1;31mNameError\u001b[0m                                 Traceback (most recent call last)",
      "Cell \u001b[1;32mIn[16], line 1\u001b[0m\n\u001b[1;32m----> 1\u001b[0m \u001b[38;5;28mprint\u001b[39m(\u001b[43mabcd\u001b[49m)\n",
      "\u001b[1;31mNameError\u001b[0m: name 'abcd' is not defined"
     ]
    }
   ],
   "source": [
    "print(abcd)"
   ]
  },
  {
   "cell_type": "code",
   "execution_count": 17,
   "id": "0c13bb96",
   "metadata": {
    "tags": []
   },
   "outputs": [
    {
     "name": "stdout",
     "output_type": "stream",
     "text": [
      "Variable abcd is not defined\n"
     ]
    }
   ],
   "source": [
    "try:\n",
    "  print(abcd)\n",
    "except NameError:\n",
    "  print(\"Variable abcd is not defined\")\n",
    "except:\n",
    "  print(\"Something else went wrong\")\n"
   ]
  },
  {
   "cell_type": "markdown",
   "id": "195a89e2",
   "metadata": {},
   "source": [
    "#### Else"
   ]
  },
  {
   "cell_type": "code",
   "execution_count": 18,
   "id": "3c5680e6",
   "metadata": {
    "tags": []
   },
   "outputs": [
    {
     "name": "stdout",
     "output_type": "stream",
     "text": [
      "Hello\n",
      "Nothing went wrong\n"
     ]
    }
   ],
   "source": [
    "abcd = \"Hello\"\n",
    "try:\n",
    "  print(abcd)\n",
    "except:\n",
    "  print(\"Something went wrong\")\n",
    "else:\n",
    "  print(\"Nothing went wrong\")"
   ]
  },
  {
   "cell_type": "markdown",
   "id": "762e384c",
   "metadata": {},
   "source": [
    "#### Finally"
   ]
  },
  {
   "cell_type": "code",
   "execution_count": 19,
   "id": "e48e0e50",
   "metadata": {
    "tags": []
   },
   "outputs": [
    {
     "name": "stdout",
     "output_type": "stream",
     "text": [
      "Something went wrong\n",
      "The 'try except' is finished\n"
     ]
    }
   ],
   "source": [
    "try:\n",
    "  print(hi)\n",
    "except:\n",
    "  print(\"Something went wrong\")\n",
    "else:\n",
    "  print(\"Nothing went wrong\")\n",
    "finally:\n",
    "  print(\"The 'try except' is finished\")"
   ]
  },
  {
   "cell_type": "code",
   "execution_count": 20,
   "id": "44df7f09",
   "metadata": {
    "tags": []
   },
   "outputs": [
    {
     "name": "stdout",
     "output_type": "stream",
     "text": [
      "Greeting\n",
      "Nothing went wrong\n",
      "The 'try except' is finished\n"
     ]
    }
   ],
   "source": [
    "hi = \"Greeting\"\n",
    "\n",
    "try:\n",
    "  print(hi)\n",
    "except:\n",
    "  print(\"Something went wrong\")\n",
    "else:\n",
    "  print(\"Nothing went wrong\")\n",
    "finally:\n",
    "  print(\"The 'try except' is finished\")"
   ]
  },
  {
   "cell_type": "markdown",
   "id": "59775a1a",
   "metadata": {},
   "source": [
    "#### Raise\n",
    "The raise keyword is used to raise an exception. \n",
    "\n",
    "You can define what kind of error to raise, and the text to print to the user."
   ]
  },
  {
   "cell_type": "code",
   "execution_count": 21,
   "id": "6d4dbf85",
   "metadata": {
    "tags": []
   },
   "outputs": [
    {
     "ename": "TypeError",
     "evalue": "Only integers are allowed",
     "output_type": "error",
     "traceback": [
      "\u001b[1;31m---------------------------------------------------------------------------\u001b[0m",
      "\u001b[1;31mTypeError\u001b[0m                                 Traceback (most recent call last)",
      "Cell \u001b[1;32mIn[21], line 4\u001b[0m\n\u001b[0;32m      1\u001b[0m x \u001b[38;5;241m=\u001b[39m \u001b[38;5;124m\"\u001b[39m\u001b[38;5;124mhello\u001b[39m\u001b[38;5;124m\"\u001b[39m\n\u001b[0;32m      3\u001b[0m \u001b[38;5;28;01mif\u001b[39;00m \u001b[38;5;129;01mnot\u001b[39;00m \u001b[38;5;28mtype\u001b[39m(x) \u001b[38;5;129;01mis\u001b[39;00m \u001b[38;5;28mint\u001b[39m:\n\u001b[1;32m----> 4\u001b[0m   \u001b[38;5;28;01mraise\u001b[39;00m \u001b[38;5;167;01mTypeError\u001b[39;00m(\u001b[38;5;124m\"\u001b[39m\u001b[38;5;124mOnly integers are allowed\u001b[39m\u001b[38;5;124m\"\u001b[39m)\n",
      "\u001b[1;31mTypeError\u001b[0m: Only integers are allowed"
     ]
    }
   ],
   "source": [
    "x = \"hello\"\n",
    "\n",
    "if not type(x) is int:\n",
    "  raise TypeError(\"Only integers are allowed\")"
   ]
  },
  {
   "cell_type": "markdown",
   "id": "92e4cee0",
   "metadata": {},
   "source": [
    "## Python Classes/Objects\n",
    "\n",
    "Python is an object oriented programming language.\n",
    "\n",
    "\n",
    "A Class is like an object constructor, or a \"blueprint\" for creating objects."
   ]
  },
  {
   "cell_type": "markdown",
   "id": "8c383ca1",
   "metadata": {},
   "source": [
    "### Create a Class"
   ]
  },
  {
   "cell_type": "code",
   "execution_count": 22,
   "id": "f75d80f7",
   "metadata": {
    "tags": []
   },
   "outputs": [],
   "source": [
    "class Car:\n",
    "    wheels = 4\n",
    "    seats = 5"
   ]
  },
  {
   "cell_type": "markdown",
   "id": "a39f8975",
   "metadata": {},
   "source": [
    "### Create Object"
   ]
  },
  {
   "cell_type": "code",
   "execution_count": 23,
   "id": "b8ade8a8",
   "metadata": {
    "tags": []
   },
   "outputs": [
    {
     "name": "stdout",
     "output_type": "stream",
     "text": [
      "5\n"
     ]
    }
   ],
   "source": [
    "samand = Car()\n",
    "\n",
    "print(samand.seats)"
   ]
  },
  {
   "cell_type": "markdown",
   "id": "91dda954",
   "metadata": {},
   "source": [
    "<h3> The __init__() Function </h3>\n"
   ]
  },
  {
   "cell_type": "markdown",
   "id": "1fe61601",
   "metadata": {},
   "source": [
    "The above function is called automatically every time the class is being used to create a new object."
   ]
  },
  {
   "cell_type": "code",
   "execution_count": 24,
   "id": "4db9d60f",
   "metadata": {
    "tags": []
   },
   "outputs": [],
   "source": [
    "class Person:\n",
    "    def __init__(self,name,age):\n",
    "        self.name = name\n",
    "        self.age = age\n",
    "    def get_info(self):\n",
    "        print(\"Name is %s and age is %d\" % (self.name, self.age))"
   ]
  },
  {
   "cell_type": "code",
   "execution_count": 25,
   "id": "38f05a67",
   "metadata": {
    "tags": []
   },
   "outputs": [],
   "source": [
    "batman = Person(\"Bruce Wayne\", 26)"
   ]
  },
  {
   "cell_type": "code",
   "execution_count": 26,
   "id": "1cf8f8c3",
   "metadata": {
    "tags": []
   },
   "outputs": [
    {
     "name": "stdout",
     "output_type": "stream",
     "text": [
      "Bruce Wayne\n"
     ]
    },
    {
     "data": {
      "text/plain": [
       "26"
      ]
     },
     "execution_count": 26,
     "metadata": {},
     "output_type": "execute_result"
    }
   ],
   "source": [
    "print(batman.name)\n",
    "batman.age"
   ]
  },
  {
   "cell_type": "code",
   "execution_count": 27,
   "id": "8296a7da",
   "metadata": {
    "tags": []
   },
   "outputs": [
    {
     "name": "stdout",
     "output_type": "stream",
     "text": [
      "Name is Bruce Wayne and age is 26\n"
     ]
    }
   ],
   "source": [
    "batman.get_info()"
   ]
  },
  {
   "cell_type": "code",
   "execution_count": 28,
   "id": "24197136",
   "metadata": {
    "tags": []
   },
   "outputs": [],
   "source": [
    "class Person:\n",
    "    counter = 0 #class variable   #Attributes\n",
    "    def __init__(self,name,age): #self variable\n",
    "        self.name = name\n",
    "        self.age = age\n",
    "        Person.counter += 1\n",
    "        print(\"You have %i person in this class\"%Person.counter)\n",
    "    def get_info(self):          #Methods\n",
    "        print(\"Name is %s and age is %d\" % (self.name, self.age))"
   ]
  },
  {
   "cell_type": "code",
   "execution_count": 29,
   "id": "44b40245",
   "metadata": {
    "tags": []
   },
   "outputs": [
    {
     "name": "stdout",
     "output_type": "stream",
     "text": [
      "You have 1 person in this class\n"
     ]
    }
   ],
   "source": [
    "spiderman = Person(\"Peter Parker\",17)"
   ]
  },
  {
   "cell_type": "code",
   "execution_count": 30,
   "id": "586e4b1e",
   "metadata": {
    "tags": []
   },
   "outputs": [
    {
     "name": "stdout",
     "output_type": "stream",
     "text": [
      "You have 2 person in this class\n"
     ]
    }
   ],
   "source": [
    "batman = Person(\"Bruce Wayne\", 26)"
   ]
  },
  {
   "cell_type": "code",
   "execution_count": 31,
   "id": "a353131b-c11f-4637-b665-efa6d6cb1f21",
   "metadata": {
    "tags": []
   },
   "outputs": [
    {
     "name": "stdout",
     "output_type": "stream",
     "text": [
      "Name is Peter Parker and age is 17\n"
     ]
    }
   ],
   "source": [
    "spiderman.get_info()"
   ]
  },
  {
   "cell_type": "markdown",
   "id": "a5c7cb8c",
   "metadata": {},
   "source": [
    "## Inheritance"
   ]
  },
  {
   "cell_type": "code",
   "execution_count": 33,
   "id": "2c54e61b",
   "metadata": {
    "tags": []
   },
   "outputs": [],
   "source": [
    "class Computer:\n",
    "    counter = 0\n",
    "    def __init__(self,ram,cpu,hard):\n",
    "        self.ram = ram\n",
    "        self.cpu = cpu\n",
    "        self.hard = hard\n",
    "        Computer.counter +=1\n",
    "    def value(self):\n",
    "        return 1000*(self.ram*175 + self.cpu*220 + 130*self.hard)\n"
   ]
  },
  {
   "cell_type": "code",
   "execution_count": 34,
   "id": "d56576f1",
   "metadata": {
    "tags": []
   },
   "outputs": [],
   "source": [
    "asusMX130 = Computer(16,4,512)"
   ]
  },
  {
   "cell_type": "code",
   "execution_count": 35,
   "id": "aa2c16dd",
   "metadata": {
    "tags": []
   },
   "outputs": [
    {
     "data": {
      "text/plain": [
       "70240000"
      ]
     },
     "execution_count": 35,
     "metadata": {},
     "output_type": "execute_result"
    }
   ],
   "source": [
    "asusMX130.value()"
   ]
  },
  {
   "cell_type": "code",
   "execution_count": 36,
   "id": "96cc9db6",
   "metadata": {
    "tags": []
   },
   "outputs": [],
   "source": [
    "class Laptop(Computer):\n",
    "    pass"
   ]
  },
  {
   "cell_type": "code",
   "execution_count": 39,
   "id": "a039e8f6",
   "metadata": {
    "tags": []
   },
   "outputs": [],
   "source": [
    "surface = Laptop(16,4,256)"
   ]
  },
  {
   "cell_type": "code",
   "execution_count": 38,
   "id": "d94d98d1",
   "metadata": {
    "tags": []
   },
   "outputs": [
    {
     "data": {
      "text/plain": [
       "36960000"
      ]
     },
     "execution_count": 38,
     "metadata": {},
     "output_type": "execute_result"
    }
   ],
   "source": [
    "surface.value()"
   ]
  },
  {
   "cell_type": "code",
   "execution_count": 40,
   "id": "16586ed7",
   "metadata": {
    "tags": []
   },
   "outputs": [
    {
     "data": {
      "text/plain": [
       "3"
      ]
     },
     "execution_count": 40,
     "metadata": {},
     "output_type": "execute_result"
    }
   ],
   "source": [
    "Computer.counter"
   ]
  },
  {
   "cell_type": "markdown",
   "id": "c72d3686",
   "metadata": {},
   "source": [
    "### super()\n",
    "By using the super() function, you do not have to use the name of the parent element, it will automatically inherit the methods and properties from its parent.\n",
    "\n"
   ]
  },
  {
   "cell_type": "code",
   "execution_count": 41,
   "id": "d57a19e4",
   "metadata": {
    "tags": []
   },
   "outputs": [],
   "source": [
    "class Laptop(Computer):\n",
    "    def __init__(self,ram,cpu,hard,battery):\n",
    "        super().__init__(ram,cpu,hard)\n",
    "        self.battery = battery\n",
    "    def value(self):\n",
    "        return 1000*(self.ram*175 + self.cpu*220 + 130*self.hard + 14*self.battery)\n",
    "    def bt_life(self):\n",
    "        return int(self.battery/20)"
   ]
  },
  {
   "cell_type": "code",
   "execution_count": 42,
   "id": "b909955e",
   "metadata": {
    "tags": []
   },
   "outputs": [],
   "source": [
    "macbookair = Laptop(8,4,256,240)"
   ]
  },
  {
   "cell_type": "code",
   "execution_count": 43,
   "id": "a4cfad54",
   "metadata": {
    "tags": []
   },
   "outputs": [
    {
     "data": {
      "text/plain": [
       "38920000"
      ]
     },
     "execution_count": 43,
     "metadata": {},
     "output_type": "execute_result"
    }
   ],
   "source": [
    "macbookair.value()"
   ]
  },
  {
   "cell_type": "code",
   "execution_count": 44,
   "id": "6ee0a9d8",
   "metadata": {
    "tags": []
   },
   "outputs": [
    {
     "data": {
      "text/plain": [
       "12"
      ]
     },
     "execution_count": 44,
     "metadata": {},
     "output_type": "execute_result"
    }
   ],
   "source": [
    "macbookair.bt_life()"
   ]
  },
  {
   "cell_type": "markdown",
   "id": "303a2fbc",
   "metadata": {},
   "source": [
    "<h3> The __del__() Function </h3>\n"
   ]
  },
  {
   "cell_type": "code",
   "execution_count": 48,
   "id": "72488df2",
   "metadata": {
    "tags": []
   },
   "outputs": [],
   "source": [
    "class User:\n",
    "    counter = 0\n",
    "    \n",
    "    def __init__(self,name):\n",
    "        self.name = name\n",
    "        User.counter += 1\n",
    "    \n",
    "    def __del__(self):\n",
    "        User.counter -= 1\n",
    "        print(\"User deleted\")"
   ]
  },
  {
   "cell_type": "code",
   "execution_count": 49,
   "id": "a583b6f8",
   "metadata": {
    "tags": []
   },
   "outputs": [],
   "source": [
    "alex = User(\"Alexander\")"
   ]
  },
  {
   "cell_type": "code",
   "execution_count": 50,
   "id": "e34e659d",
   "metadata": {
    "tags": []
   },
   "outputs": [
    {
     "data": {
      "text/plain": [
       "1"
      ]
     },
     "execution_count": 50,
     "metadata": {},
     "output_type": "execute_result"
    }
   ],
   "source": [
    "User.counter"
   ]
  },
  {
   "cell_type": "code",
   "execution_count": 51,
   "id": "317d0b14",
   "metadata": {
    "tags": []
   },
   "outputs": [
    {
     "name": "stdout",
     "output_type": "stream",
     "text": [
      "User deleted\n"
     ]
    }
   ],
   "source": [
    "del alex"
   ]
  },
  {
   "cell_type": "code",
   "execution_count": 52,
   "id": "76de8957",
   "metadata": {
    "tags": []
   },
   "outputs": [
    {
     "data": {
      "text/plain": [
       "0"
      ]
     },
     "execution_count": 52,
     "metadata": {},
     "output_type": "execute_result"
    }
   ],
   "source": [
    "User.counter"
   ]
  },
  {
   "cell_type": "markdown",
   "id": "5f3ee211-5ee0-4740-b1e7-c37e5c1e05c3",
   "metadata": {},
   "source": [
    "## Classified IOT Example"
   ]
  },
  {
   "cell_type": "code",
   "execution_count": null,
   "id": "b12d3632-b18d-476f-aa2c-b6925b0b54c6",
   "metadata": {},
   "outputs": [],
   "source": [
    "import os\n",
    "import serial\n",
    "\n",
    "class Device:\n",
    "    count = 0\n",
    "    \n",
    "    def __init__(self, ip, mac, name):\n",
    "        self.ip = ip\n",
    "        self.mac = mac\n",
    "        self.name = name\n",
    "        self.status = \"N/A\"\n",
    "        \n",
    "        if self.ping_ip():\n",
    "            self.status = \"Active\"\n",
    "        else:\n",
    "            self.status = \"Not-Active\"\n",
    "    \n",
    "    def ping_ip(self):\n",
    "        response = os.system(\"ping -c 1 \" + self.ip)\n",
    "        return response == 0\n",
    "\n",
    "class TV(Device):\n",
    "    def turn_on(self):\n",
    "        # Connect to self.ip and turn on TV\n",
    "        pass\n",
    "    \n",
    "    def turn_off(self):\n",
    "        # Connect to self.ip and turn off TV\n",
    "        pass\n",
    "    \n",
    "class Thermo(Device):\n",
    "    def get_degree(self):\n",
    "        x = serial.input(port=8)\n",
    "        x = (4/5) * x + 32\n",
    "        serial.output(port=20, output=f\"{x} Celsius degree\")\n"
   ]
  },
  {
   "cell_type": "code",
   "execution_count": null,
   "id": "edb4ee10-38eb-457b-a26e-7b0658ad502a",
   "metadata": {},
   "outputs": [],
   "source": [
    "SamsungN34 = TV(\"23.324.76.212\", \"2343:47:323:234:43\", \"TV no 32\")\n",
    "SamsungN34.turn_on()"
   ]
  }
 ],
 "metadata": {
  "kernelspec": {
   "display_name": "Python 3 (ipykernel)",
   "language": "python",
   "name": "python3"
  },
  "language_info": {
   "codemirror_mode": {
    "name": "ipython",
    "version": 3
   },
   "file_extension": ".py",
   "mimetype": "text/x-python",
   "name": "python",
   "nbconvert_exporter": "python",
   "pygments_lexer": "ipython3",
   "version": "3.10.9"
  },
  "vscode": {
   "interpreter": {
    "hash": "5a9a88a2c5b02ee7ff381c78ebfd1e5fdda0d3e731376f9b886f7f81c83cc469"
   }
  }
 },
 "nbformat": 4,
 "nbformat_minor": 5
}
