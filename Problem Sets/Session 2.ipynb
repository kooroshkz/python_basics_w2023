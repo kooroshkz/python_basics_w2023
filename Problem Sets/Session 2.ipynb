{
 "cells": [
  {
   "cell_type": "markdown",
   "id": "ada422f6",
   "metadata": {},
   "source": [
    "# Session 2"
   ]
  },
  {
   "cell_type": "markdown",
   "id": "8211b7a8",
   "metadata": {},
   "source": [
    "## Task 1"
   ]
  },
  {
   "cell_type": "markdown",
   "id": "f2e17550",
   "metadata": {},
   "source": [
    "### تابع تشخیص اعداد اول "
   ]
  },
  {
   "cell_type": "markdown",
   "id": "31419c86",
   "metadata": {},
   "source": [
    "نمونه ورودی"
   ]
  },
  {
   "cell_type": "code",
   "execution_count": null,
   "id": "245b4374",
   "metadata": {},
   "outputs": [],
   "source": [
    "prime(59)\n",
    "prime(217)"
   ]
  },
  {
   "cell_type": "markdown",
   "id": "a9864000",
   "metadata": {},
   "source": [
    "نمونه خروجی"
   ]
  },
  {
   "cell_type": "code",
   "execution_count": null,
   "id": "5aec5ff9",
   "metadata": {},
   "outputs": [],
   "source": [
    "True\n",
    "False"
   ]
  },
  {
   "cell_type": "markdown",
   "id": "a59563d4",
   "metadata": {},
   "source": [
    "<hr style=\"height: 1px;\">"
   ]
  },
  {
   "cell_type": "markdown",
   "id": "654b0aa4",
   "metadata": {},
   "source": [
    "## Task 2"
   ]
  },
  {
   "cell_type": "markdown",
   "id": "cfad70ff",
   "metadata": {},
   "source": [
    "### عدد با بیشترین تعداد مقسوم علیه"
   ]
  },
  {
   "cell_type": "markdown",
   "id": "d5fedd7f",
   "metadata": {},
   "source": [
    "برنامه ده عدد از کاربر دریافت و عدد با بیشترین مفسوم علیه به همراه تعداد آنها را چاپ کند\n",
    "اگر چند عدد این حالت را داشتند، بیشترینشان چاپ شود"
   ]
  },
  {
   "cell_type": "markdown",
   "id": "b4a7bc00",
   "metadata": {},
   "source": [
    "نمونه ورودی"
   ]
  },
  {
   "cell_type": "code",
   "execution_count": null,
   "id": "e77882af",
   "metadata": {},
   "outputs": [],
   "source": [
    "529\n",
    "672\n",
    "933\n",
    "882\n",
    "869\n",
    "801\n",
    "660\n",
    "767\n",
    "879\n",
    "985"
   ]
  },
  {
   "cell_type": "markdown",
   "id": "58384bd9",
   "metadata": {},
   "source": [
    "نمونه خروجی"
   ]
  },
  {
   "cell_type": "code",
   "execution_count": null,
   "id": "ade8d133",
   "metadata": {},
   "outputs": [],
   "source": [
    "672 24"
   ]
  },
  {
   "cell_type": "markdown",
   "id": "55d73707",
   "metadata": {},
   "source": [
    "<hr style=\"height: 1px;\">"
   ]
  },
  {
   "cell_type": "markdown",
   "id": "87b8133d",
   "metadata": {},
   "source": [
    "## Task 3"
   ]
  },
  {
   "cell_type": "markdown",
   "id": "0f1025f4",
   "metadata": {},
   "source": [
    "### تابع فرمول والیس (حالت ضرب سیگما)"
   ]
  },
  {
   "cell_type": "markdown",
   "id": "0b80de9b",
   "metadata": {},
   "source": [
    "تابعی بنویسید که ابتدا و انتها را دریافت\n",
    "و حاصل عبارت زیر را بدست بیاورد"
   ]
  },
  {
   "cell_type": "markdown",
   "id": "4863e022",
   "metadata": {},
   "source": [
    "$\\prod_{x = a}^{b} 2x+3$"
   ]
  },
  {
   "cell_type": "markdown",
   "id": "6b742afa",
   "metadata": {},
   "source": [
    "نمونه ورودی"
   ]
  },
  {
   "cell_type": "code",
   "execution_count": 3,
   "id": "446fb3f8",
   "metadata": {},
   "outputs": [],
   "source": [
    "a = 3\n",
    "b = 6"
   ]
  },
  {
   "cell_type": "markdown",
   "id": "59a507df",
   "metadata": {},
   "source": [
    "نمونه خروجی"
   ]
  },
  {
   "cell_type": "code",
   "execution_count": null,
   "id": "acb70675",
   "metadata": {},
   "outputs": [],
   "source": [
    "19305"
   ]
  }
 ],
 "metadata": {
  "kernelspec": {
   "display_name": "Python 3 (ipykernel)",
   "language": "python",
   "name": "python3"
  },
  "language_info": {
   "codemirror_mode": {
    "name": "ipython",
    "version": 3
   },
   "file_extension": ".py",
   "mimetype": "text/x-python",
   "name": "python",
   "nbconvert_exporter": "python",
   "pygments_lexer": "ipython3",
   "version": "3.9.13"
  }
 },
 "nbformat": 4,
 "nbformat_minor": 5
}
