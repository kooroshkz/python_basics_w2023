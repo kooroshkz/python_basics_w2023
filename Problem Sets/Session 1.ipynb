{
 "cells": [
  {
   "cell_type": "markdown",
   "id": "ada422f6",
   "metadata": {},
   "source": [
    "# Session 1"
   ]
  },
  {
   "cell_type": "markdown",
   "id": "8211b7a8",
   "metadata": {},
   "source": [
    "## Task 1"
   ]
  },
  {
   "cell_type": "markdown",
   "id": "f2e17550",
   "metadata": {},
   "source": [
    "### چاپ بزرگترین عدد از بین سه ورودی"
   ]
  },
  {
   "cell_type": "markdown",
   "id": "31419c86",
   "metadata": {},
   "source": [
    "نمونه ورودی"
   ]
  },
  {
   "cell_type": "code",
   "execution_count": null,
   "id": "245b4374",
   "metadata": {},
   "outputs": [],
   "source": [
    "32\n",
    "93\n",
    "18"
   ]
  },
  {
   "cell_type": "markdown",
   "id": "a9864000",
   "metadata": {},
   "source": [
    "نمونه خروجی"
   ]
  },
  {
   "cell_type": "code",
   "execution_count": null,
   "id": "5aec5ff9",
   "metadata": {},
   "outputs": [],
   "source": [
    "93"
   ]
  },
  {
   "cell_type": "markdown",
   "id": "a59563d4",
   "metadata": {},
   "source": [
    "<hr style=\"height: 1px;\">"
   ]
  },
  {
   "cell_type": "markdown",
   "id": "654b0aa4",
   "metadata": {},
   "source": [
    "## Task 2"
   ]
  },
  {
   "cell_type": "markdown",
   "id": "cfad70ff",
   "metadata": {},
   "source": [
    "### BMI برنامه محاسبه"
   ]
  },
  {
   "cell_type": "markdown",
   "id": "494e83ff",
   "metadata": {},
   "source": [
    "<table>\n",
    "    <tbody>\n",
    "        <tr>\n",
    "            <th>Weight Range</th>\n",
    "            <th>BMI</th>\n",
    "            <th>Considered</th>\n",
    "        </tr>\n",
    "        <tr>\n",
    "            <td>124 lbs or less</td>\n",
    "            <td>Below 18.5</td>\n",
    "            <td>Underweight</td>\n",
    "        </tr>\n",
    "        <tr>\n",
    "            <td>125 lbs to 168 lbs</td>\n",
    "            <td>18.5 to 24.9</td>\n",
    "            <td>Healthy weight</td>\n",
    "        </tr>\n",
    "        <tr>\n",
    "            <td>169 lbs to 202 lbs</td>\n",
    "            <td>25.0 to 29.9</td>\n",
    "            <td>Overweight</td>\n",
    "        </tr>\n",
    "            <tr>\n",
    "            <td>203 lbs or more</td>\n",
    "            <td>30 or higher</td>\n",
    "            <td>Obesity</td>\n",
    "        </tr>\n",
    "            <tr>\n",
    "            <td>271 lbs or more</td>\n",
    "            <td>40 or higher</td>\n",
    "            <td>Class 3 Obesity</td>\n",
    "        </tr>\n",
    "    </tbody>\n",
    "</table>"
   ]
  },
  {
   "cell_type": "markdown",
   "id": "b4a7bc00",
   "metadata": {},
   "source": [
    "نمونه ورودی"
   ]
  },
  {
   "cell_type": "code",
   "execution_count": null,
   "id": "e77882af",
   "metadata": {},
   "outputs": [],
   "source": [
    "Enter your height (m): 1.9\n",
    "Enter your weight (Kg): 90"
   ]
  },
  {
   "cell_type": "markdown",
   "id": "58384bd9",
   "metadata": {},
   "source": [
    "نمونه خروجی"
   ]
  },
  {
   "cell_type": "code",
   "execution_count": null,
   "id": "ade8d133",
   "metadata": {},
   "outputs": [],
   "source": [
    "You have healthy weight"
   ]
  },
  {
   "cell_type": "markdown",
   "id": "55d73707",
   "metadata": {},
   "source": [
    "<hr style=\"height: 1px;\">"
   ]
  },
  {
   "cell_type": "markdown",
   "id": "87b8133d",
   "metadata": {},
   "source": [
    "## Task 3"
   ]
  },
  {
   "cell_type": "markdown",
   "id": "0f1025f4",
   "metadata": {},
   "source": [
    "### دو برابر کننده ی برعکس عدد سه رقمی ورودی"
   ]
  },
  {
   "cell_type": "markdown",
   "id": "6b742afa",
   "metadata": {},
   "source": [
    "نمونه ورودی"
   ]
  },
  {
   "cell_type": "code",
   "execution_count": null,
   "id": "446fb3f8",
   "metadata": {},
   "outputs": [],
   "source": [
    "123\n",
    "# 2 * ( 321 )"
   ]
  },
  {
   "cell_type": "markdown",
   "id": "59a507df",
   "metadata": {},
   "source": [
    "نمونه خروجی"
   ]
  },
  {
   "cell_type": "code",
   "execution_count": null,
   "id": "acb70675",
   "metadata": {},
   "outputs": [],
   "source": [
    "642"
   ]
  }
 ],
 "metadata": {
  "kernelspec": {
   "display_name": "Python 3 (ipykernel)",
   "language": "python",
   "name": "python3"
  },
  "language_info": {
   "codemirror_mode": {
    "name": "ipython",
    "version": 3
   },
   "file_extension": ".py",
   "mimetype": "text/x-python",
   "name": "python",
   "nbconvert_exporter": "python",
   "pygments_lexer": "ipython3",
   "version": "3.9.13"
  }
 },
 "nbformat": 4,
 "nbformat_minor": 5
}
