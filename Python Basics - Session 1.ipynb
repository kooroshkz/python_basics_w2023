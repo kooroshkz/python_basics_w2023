{
 "cells": [
  {
   "cell_type": "markdown",
   "id": "b0b346f4",
   "metadata": {},
   "source": [
    "<p align=\"center\"><img src = \"https://upload.wikimedia.org/wikipedia/commons/thumb/f/f8/Python_logo_and_wordmark.svg/2560px-Python_logo_and_wordmark.svg.png\" width=\"200\" height=\"auto\" style=\"display: block;margin-left: auto;margin-right: auto;margin-bottom:-30px\" /></p>\n",
    "<h1 align=\"center\" style=\"font-family:Calibri;color:#407daf;margin-left: 50px;text-align: center;\">Introduction to python</h1>\n",
    "<h2 align=\"center\" style=\"font-family:Calibri;color:#ffe262;margin-left: 50px;margin-top: 0px;text-align: center;\">Koorosh Komeilizadeh</h2>\n",
    "<p align=\"center\"><img src = \"https://www.irangi.org/uploads/images/4_1560089256_1291127534.png\" style=\"  -webkit-filter: drop-shadow(1px 1px 0 white)\n",
    "                  drop-shadow(-1px -1px 0 white);\n",
    "  filter: drop-shadow(1px 1px 0 white) \n",
    "          drop-shadow(-1px -1px 0 white);display: block;margin-left: auto;margin-right: auto;margin-top:15px\" width=\"250\" height=\"auto\"/></p>\n",
    "<h1 align=\"center\" style=\"margin-left:50px;\">Session 1</h1>"
   ]
  },
  {
   "cell_type": "markdown",
   "id": "83a5f81c",
   "metadata": {},
   "source": [
    "# Why programming in Python"
   ]
  },
  {
   "cell_type": "markdown",
   "id": "fe584d2a",
   "metadata": {},
   "source": [
    "It uses a simplified syntax with an emphasis on natural language, for a much easier learning curve for beginners. And, because Python is free to use and is supported by an extremely large ecosystem of libraries and packages, it’s often the first-choice language for new developers.\n",
    "<br>\n",
    "  -<a href=\"https://www.pulumi.com/why-is-python-so-popular/#:~:text=It%20uses%20a%20simplified%20syntax,choice%20language%20for%20new%20developers.\">pulumi.com</a>"
   ]
  },
  {
   "cell_type": "markdown",
   "id": "1fcc58cd",
   "metadata": {},
   "source": [
    "# Installing Python"
   ]
  },
  {
   "cell_type": "markdown",
   "id": "cfb46c02",
   "metadata": {},
   "source": [
    "Latest version of python is available on\n",
    "https://www.python.org/downloads/\n"
   ]
  },
  {
   "cell_type": "markdown",
   "id": "907731b3",
   "metadata": {},
   "source": [
    "# How to use Jupyter Notebook"
   ]
  },
  {
   "cell_type": "markdown",
   "id": "f12b4a71",
   "metadata": {},
   "source": [
    "### Install Jupyter Notebook"
   ]
  },
  {
   "cell_type": "code",
   "execution_count": null,
   "id": "c3ae08ff",
   "metadata": {},
   "outputs": [],
   "source": [
    "!pip install notebook"
   ]
  },
  {
   "cell_type": "markdown",
   "id": "c2308638",
   "metadata": {},
   "source": [
    "### Run Jupyter Notebook"
   ]
  },
  {
   "cell_type": "code",
   "execution_count": null,
   "id": "4b64a3d6",
   "metadata": {},
   "outputs": [],
   "source": [
    "!jupyter notebook"
   ]
  },
  {
   "cell_type": "markdown",
   "id": "53ea036e",
   "metadata": {},
   "source": [
    "## Variable"
   ]
  },
  {
   "cell_type": "markdown",
   "id": "815175b2",
   "metadata": {},
   "source": [
    "### Store values"
   ]
  },
  {
   "cell_type": "code",
   "execution_count": 1,
   "id": "a1bccdf1",
   "metadata": {},
   "outputs": [],
   "source": [
    "var = 123"
   ]
  },
  {
   "cell_type": "code",
   "execution_count": 2,
   "id": "72314f2b",
   "metadata": {},
   "outputs": [
    {
     "data": {
      "text/plain": [
       "123"
      ]
     },
     "execution_count": 2,
     "metadata": {},
     "output_type": "execute_result"
    }
   ],
   "source": [
    "var"
   ]
  },
  {
   "cell_type": "code",
   "execution_count": 3,
   "id": "110ece16",
   "metadata": {},
   "outputs": [],
   "source": [
    "var = 321"
   ]
  },
  {
   "cell_type": "code",
   "execution_count": 4,
   "id": "03339724",
   "metadata": {},
   "outputs": [
    {
     "data": {
      "text/plain": [
       "321"
      ]
     },
     "execution_count": 4,
     "metadata": {},
     "output_type": "execute_result"
    }
   ],
   "source": [
    "var"
   ]
  },
  {
   "cell_type": "markdown",
   "id": "99fe3d6e",
   "metadata": {},
   "source": [
    "#### Show Values"
   ]
  },
  {
   "cell_type": "code",
   "execution_count": 5,
   "id": "4f11eec0",
   "metadata": {},
   "outputs": [
    {
     "name": "stdout",
     "output_type": "stream",
     "text": [
      "321\n"
     ]
    }
   ],
   "source": [
    "print(var)"
   ]
  },
  {
   "cell_type": "code",
   "execution_count": 6,
   "id": "746c4f08",
   "metadata": {},
   "outputs": [
    {
     "name": "stdout",
     "output_type": "stream",
     "text": [
      "123\n"
     ]
    }
   ],
   "source": [
    "print(123)"
   ]
  },
  {
   "cell_type": "code",
   "execution_count": 7,
   "id": "a35bb3b3",
   "metadata": {},
   "outputs": [
    {
     "name": "stdout",
     "output_type": "stream",
     "text": [
      "Hello world!\n"
     ]
    }
   ],
   "source": [
    "print(\"Hello world!\")"
   ]
  },
  {
   "cell_type": "markdown",
   "id": "97e28bbd",
   "metadata": {},
   "source": [
    "#### Input Values"
   ]
  },
  {
   "cell_type": "code",
   "execution_count": null,
   "id": "ed52e538",
   "metadata": {},
   "outputs": [],
   "source": [
    "var = input()"
   ]
  },
  {
   "cell_type": "code",
   "execution_count": null,
   "id": "dd70a1d2",
   "metadata": {},
   "outputs": [],
   "source": [
    "var = input(\"Enter value \")"
   ]
  },
  {
   "cell_type": "markdown",
   "id": "e41c28fd",
   "metadata": {},
   "source": [
    "## Values"
   ]
  },
  {
   "cell_type": "markdown",
   "id": "688da059",
   "metadata": {},
   "source": [
    "### String"
   ]
  },
  {
   "cell_type": "code",
   "execution_count": null,
   "id": "7b586b04",
   "metadata": {},
   "outputs": [],
   "source": [
    "\"Hello\""
   ]
  },
  {
   "cell_type": "code",
   "execution_count": 8,
   "id": "e4899e85",
   "metadata": {},
   "outputs": [
    {
     "data": {
      "text/plain": [
       "str"
      ]
     },
     "execution_count": 8,
     "metadata": {},
     "output_type": "execute_result"
    }
   ],
   "source": [
    "type(\"Hello\")"
   ]
  },
  {
   "cell_type": "markdown",
   "id": "9b49f470",
   "metadata": {},
   "source": [
    "### Integer"
   ]
  },
  {
   "cell_type": "code",
   "execution_count": null,
   "id": "9cc3ecd8",
   "metadata": {},
   "outputs": [],
   "source": [
    "123"
   ]
  },
  {
   "cell_type": "code",
   "execution_count": 9,
   "id": "3e7cf14c",
   "metadata": {},
   "outputs": [
    {
     "data": {
      "text/plain": [
       "int"
      ]
     },
     "execution_count": 9,
     "metadata": {},
     "output_type": "execute_result"
    }
   ],
   "source": [
    "type(123)"
   ]
  },
  {
   "cell_type": "markdown",
   "id": "2b2778c6",
   "metadata": {},
   "source": [
    "### Float"
   ]
  },
  {
   "cell_type": "code",
   "execution_count": null,
   "id": "032f03aa",
   "metadata": {},
   "outputs": [],
   "source": [
    "3.1415926"
   ]
  },
  {
   "cell_type": "code",
   "execution_count": 10,
   "id": "8171eba7",
   "metadata": {},
   "outputs": [
    {
     "data": {
      "text/plain": [
       "float"
      ]
     },
     "execution_count": 10,
     "metadata": {},
     "output_type": "execute_result"
    }
   ],
   "source": [
    "type(3.1415926)"
   ]
  },
  {
   "cell_type": "markdown",
   "id": "132a40ca",
   "metadata": {},
   "source": [
    "### Boolean"
   ]
  },
  {
   "cell_type": "code",
   "execution_count": null,
   "id": "6e8dbf40",
   "metadata": {},
   "outputs": [],
   "source": [
    "True"
   ]
  },
  {
   "cell_type": "code",
   "execution_count": 11,
   "id": "95c2f9ed",
   "metadata": {},
   "outputs": [
    {
     "data": {
      "text/plain": [
       "bool"
      ]
     },
     "execution_count": 11,
     "metadata": {},
     "output_type": "execute_result"
    }
   ],
   "source": [
    "type(True)"
   ]
  },
  {
   "cell_type": "markdown",
   "id": "5807d28f",
   "metadata": {},
   "source": [
    "#### Casting"
   ]
  },
  {
   "cell_type": "code",
   "execution_count": 12,
   "id": "b57d05fd",
   "metadata": {},
   "outputs": [],
   "source": [
    "var = \"123\""
   ]
  },
  {
   "cell_type": "code",
   "execution_count": 13,
   "id": "af00a576",
   "metadata": {},
   "outputs": [
    {
     "name": "stdout",
     "output_type": "stream",
     "text": [
      "123\n"
     ]
    }
   ],
   "source": [
    "print(var)"
   ]
  },
  {
   "cell_type": "code",
   "execution_count": 14,
   "id": "f325938b",
   "metadata": {},
   "outputs": [
    {
     "ename": "TypeError",
     "evalue": "can only concatenate str (not \"int\") to str",
     "output_type": "error",
     "traceback": [
      "\u001b[1;31m---------------------------------------------------------------------------\u001b[0m",
      "\u001b[1;31mTypeError\u001b[0m                                 Traceback (most recent call last)",
      "\u001b[1;32m~\\AppData\\Local\\Temp\\ipykernel_12884\\2917780529.py\u001b[0m in \u001b[0;36m<module>\u001b[1;34m\u001b[0m\n\u001b[1;32m----> 1\u001b[1;33m \u001b[0mprint\u001b[0m\u001b[1;33m(\u001b[0m\u001b[0mvar\u001b[0m \u001b[1;33m+\u001b[0m \u001b[1;36m1\u001b[0m\u001b[1;33m)\u001b[0m\u001b[1;33m\u001b[0m\u001b[1;33m\u001b[0m\u001b[0m\n\u001b[0m",
      "\u001b[1;31mTypeError\u001b[0m: can only concatenate str (not \"int\") to str"
     ]
    }
   ],
   "source": [
    "print(var + 1)"
   ]
  },
  {
   "cell_type": "code",
   "execution_count": 15,
   "id": "1ceea673",
   "metadata": {},
   "outputs": [
    {
     "name": "stdout",
     "output_type": "stream",
     "text": [
      "124\n"
     ]
    }
   ],
   "source": [
    "print( int(var) + 1 )"
   ]
  },
  {
   "cell_type": "code",
   "execution_count": 16,
   "id": "a50a566f",
   "metadata": {},
   "outputs": [
    {
     "data": {
      "text/plain": [
       "str"
      ]
     },
     "execution_count": 16,
     "metadata": {},
     "output_type": "execute_result"
    }
   ],
   "source": [
    "type(var)"
   ]
  },
  {
   "cell_type": "code",
   "execution_count": 17,
   "id": "ddfcabfe",
   "metadata": {},
   "outputs": [],
   "source": [
    "var = int(var)"
   ]
  },
  {
   "cell_type": "code",
   "execution_count": 18,
   "id": "e0b68240",
   "metadata": {},
   "outputs": [
    {
     "data": {
      "text/plain": [
       "int"
      ]
     },
     "execution_count": 18,
     "metadata": {},
     "output_type": "execute_result"
    }
   ],
   "source": [
    "type(var)"
   ]
  },
  {
   "cell_type": "markdown",
   "id": "0e923cd6",
   "metadata": {},
   "source": [
    "## Statement"
   ]
  },
  {
   "cell_type": "code",
   "execution_count": null,
   "id": "3e7587c8",
   "metadata": {},
   "outputs": [],
   "source": [
    "my_age = 80"
   ]
  },
  {
   "cell_type": "markdown",
   "id": "c02f67ba",
   "metadata": {},
   "source": [
    "## Expression"
   ]
  },
  {
   "cell_type": "markdown",
   "id": "86f784cf",
   "metadata": {},
   "source": [
    "### Arithmetic Expressions"
   ]
  },
  {
   "cell_type": "code",
   "execution_count": 19,
   "id": "aef4dfc2",
   "metadata": {},
   "outputs": [
    {
     "name": "stdout",
     "output_type": "stream",
     "text": [
      "15\n"
     ]
    }
   ],
   "source": [
    "print(3+2*6)"
   ]
  },
  {
   "cell_type": "code",
   "execution_count": 20,
   "id": "08e06c69",
   "metadata": {},
   "outputs": [
    {
     "name": "stdout",
     "output_type": "stream",
     "text": [
      "7.0\n"
     ]
    }
   ],
   "source": [
    "print(3+2*6/3)"
   ]
  },
  {
   "cell_type": "code",
   "execution_count": 21,
   "id": "31b174fa",
   "metadata": {},
   "outputs": [
    {
     "name": "stdout",
     "output_type": "stream",
     "text": [
      "16\n"
     ]
    }
   ],
   "source": [
    "print(2**4)"
   ]
  },
  {
   "cell_type": "markdown",
   "id": "f368ea7b",
   "metadata": {},
   "source": [
    "#### 17 = 3*5 + 2"
   ]
  },
  {
   "cell_type": "code",
   "execution_count": 22,
   "id": "cd435e95",
   "metadata": {},
   "outputs": [
    {
     "name": "stdout",
     "output_type": "stream",
     "text": [
      "2\n",
      "5\n"
     ]
    }
   ],
   "source": [
    "print(17%3)\n",
    "print(17//3)"
   ]
  },
  {
   "cell_type": "code",
   "execution_count": 23,
   "id": "f315a65f",
   "metadata": {},
   "outputs": [
    {
     "name": "stdout",
     "output_type": "stream",
     "text": [
      "Quotient =  5\n",
      "Remainder =  2\n"
     ]
    }
   ],
   "source": [
    "print(\"Quotient = \",17//3)\n",
    "print(\"Remainder = \",17%3)"
   ]
  },
  {
   "cell_type": "code",
   "execution_count": 24,
   "id": "6a6b37f3",
   "metadata": {},
   "outputs": [
    {
     "name": "stdout",
     "output_type": "stream",
     "text": [
      "Quotient =  5 \n",
      "Remainder =  2\n"
     ]
    }
   ],
   "source": [
    "print(\"Quotient = \",17//3,\"\\nRemainder = \",17%3)"
   ]
  },
  {
   "cell_type": "markdown",
   "id": "c96b8c13",
   "metadata": {},
   "source": [
    "### Logical Operators"
   ]
  },
  {
   "cell_type": "code",
   "execution_count": 25,
   "id": "8c04315e",
   "metadata": {},
   "outputs": [
    {
     "data": {
      "text/plain": [
       "True"
      ]
     },
     "execution_count": 25,
     "metadata": {},
     "output_type": "execute_result"
    }
   ],
   "source": [
    "32 > 12"
   ]
  },
  {
   "cell_type": "code",
   "execution_count": 26,
   "id": "3cbc6bfe",
   "metadata": {},
   "outputs": [
    {
     "data": {
      "text/plain": [
       "False"
      ]
     },
     "execution_count": 26,
     "metadata": {},
     "output_type": "execute_result"
    }
   ],
   "source": [
    "32 > 54"
   ]
  },
  {
   "cell_type": "code",
   "execution_count": 27,
   "id": "d7bd7353",
   "metadata": {},
   "outputs": [
    {
     "data": {
      "text/plain": [
       "True"
      ]
     },
     "execution_count": 27,
     "metadata": {},
     "output_type": "execute_result"
    }
   ],
   "source": [
    "2**4 >= 16"
   ]
  },
  {
   "cell_type": "code",
   "execution_count": 28,
   "id": "38a3f36c",
   "metadata": {},
   "outputs": [
    {
     "data": {
      "text/plain": [
       "True"
      ]
     },
     "execution_count": 28,
     "metadata": {},
     "output_type": "execute_result"
    }
   ],
   "source": [
    "2**5 >= 16"
   ]
  },
  {
   "cell_type": "markdown",
   "id": "5530c2eb",
   "metadata": {},
   "source": [
    "Be Careful about the difference between \"=\" and \"==\""
   ]
  },
  {
   "cell_type": "code",
   "execution_count": 29,
   "id": "2dddb81c",
   "metadata": {},
   "outputs": [
    {
     "ename": "SyntaxError",
     "evalue": "cannot assign to literal (3639280486.py, line 1)",
     "output_type": "error",
     "traceback": [
      "\u001b[1;36m  File \u001b[1;32m\"C:\\Users\\kkome\\AppData\\Local\\Temp\\ipykernel_12884\\3639280486.py\"\u001b[1;36m, line \u001b[1;32m1\u001b[0m\n\u001b[1;33m    5 = 3\u001b[0m\n\u001b[1;37m    ^\u001b[0m\n\u001b[1;31mSyntaxError\u001b[0m\u001b[1;31m:\u001b[0m cannot assign to literal\n"
     ]
    }
   ],
   "source": [
    "5 = 3"
   ]
  },
  {
   "cell_type": "code",
   "execution_count": 30,
   "id": "fe8cb06e",
   "metadata": {},
   "outputs": [
    {
     "data": {
      "text/plain": [
       "False"
      ]
     },
     "execution_count": 30,
     "metadata": {},
     "output_type": "execute_result"
    }
   ],
   "source": [
    "5 == 3"
   ]
  },
  {
   "cell_type": "code",
   "execution_count": 31,
   "id": "b530af25",
   "metadata": {},
   "outputs": [
    {
     "data": {
      "text/plain": [
       "True"
      ]
     },
     "execution_count": 31,
     "metadata": {},
     "output_type": "execute_result"
    }
   ],
   "source": [
    "5 != 3"
   ]
  },
  {
   "cell_type": "code",
   "execution_count": 32,
   "id": "57870415",
   "metadata": {},
   "outputs": [
    {
     "data": {
      "text/plain": [
       "False"
      ]
     },
     "execution_count": 32,
     "metadata": {},
     "output_type": "execute_result"
    }
   ],
   "source": [
    "(2 + 2 == 3) and (3 > 4)"
   ]
  },
  {
   "cell_type": "code",
   "execution_count": 33,
   "id": "23dbb666",
   "metadata": {},
   "outputs": [
    {
     "data": {
      "text/plain": [
       "False"
      ]
     },
     "execution_count": 33,
     "metadata": {},
     "output_type": "execute_result"
    }
   ],
   "source": [
    "(2 + 2 == 3) and (7 > 4)"
   ]
  },
  {
   "cell_type": "code",
   "execution_count": 34,
   "id": "8c53eb4c",
   "metadata": {},
   "outputs": [
    {
     "data": {
      "text/plain": [
       "True"
      ]
     },
     "execution_count": 34,
     "metadata": {},
     "output_type": "execute_result"
    }
   ],
   "source": [
    "(2 + 2 == 3) or (8 > 4)"
   ]
  },
  {
   "cell_type": "markdown",
   "id": "658d9faf",
   "metadata": {},
   "source": [
    "## Conditions"
   ]
  },
  {
   "cell_type": "code",
   "execution_count": null,
   "id": "8cd7b5f3",
   "metadata": {},
   "outputs": [],
   "source": [
    "age = int(input(\"Enter your age: \"))\n",
    "\n",
    "if age >= 18:\n",
    "    print(\"Allowed\")\n",
    "else:\n",
    "    print(\"Not Allowed\")"
   ]
  },
  {
   "cell_type": "markdown",
   "id": "30b0b660",
   "metadata": {},
   "source": [
    "#### Power of python"
   ]
  },
  {
   "cell_type": "code",
   "execution_count": null,
   "id": "dc5bd5c9",
   "metadata": {},
   "outputs": [],
   "source": [
    "print(\"Allowed\" if (80 > int(input(\"Enter your age: \")) >= 18) else \"Not Allowed\")"
   ]
  },
  {
   "cell_type": "code",
   "execution_count": null,
   "id": "2ba0bf1b",
   "metadata": {},
   "outputs": [],
   "source": [
    "age = int(input(\"Enter your age: \"))\n",
    "\n",
    "if age >= 18:\n",
    "    if age <= 80:\n",
    "        print(\"Allowed\")\n",
    "    else:\n",
    "        print(\"Not Allowed\")\n",
    "else:\n",
    "    print(\"Not Allowed\")\n"
   ]
  },
  {
   "cell_type": "code",
   "execution_count": null,
   "id": "6a2065f7",
   "metadata": {},
   "outputs": [],
   "source": [
    "age = int(input(\"Enter your age: \"))\n",
    "\n",
    "if 18 < age < 80:\n",
    "    print(\"Allowed\")\n",
    "else:\n",
    "    print(\"Not Allowed\")"
   ]
  },
  {
   "cell_type": "code",
   "execution_count": null,
   "id": "58d8b866",
   "metadata": {},
   "outputs": [],
   "source": [
    "age = int(input(\"Enter your age: \"))\n",
    "hand = input(\"Right hand or Left hand\")\n",
    "\n",
    "if hand == \"Right\" or \"right\" or \"r\" or \"R\":\n",
    "    hand == \"Right\"\n",
    "else:\n",
    "    hand == \"Left\"\n",
    "\n",
    "if 18 <= age < 80 and hand == \"Right\":\n",
    "    print(\"Allowed\")\n",
    "else:\n",
    "    print(\"Not Allowed\")"
   ]
  },
  {
   "cell_type": "markdown",
   "id": "027f6dbb",
   "metadata": {},
   "source": [
    "### Elif"
   ]
  },
  {
   "cell_type": "code",
   "execution_count": null,
   "id": "368b67d5",
   "metadata": {},
   "outputs": [],
   "source": [
    "age = 12\n",
    "\n",
    "if age >= 18:\n",
    "    print(\"You could be in team.\")\n",
    "elif age >= 13:\n",
    "    print(\"You should attend underage team!\")\n",
    "elif age >= 7:\n",
    "    print(\"You can attend school team!\")\n",
    "else:\n",
    "    print(\"You're young.\")"
   ]
  }
 ],
 "metadata": {
  "kernelspec": {
   "display_name": "Python 3 (ipykernel)",
   "language": "python",
   "name": "python3"
  },
  "language_info": {
   "codemirror_mode": {
    "name": "ipython",
    "version": 3
   },
   "file_extension": ".py",
   "mimetype": "text/x-python",
   "name": "python",
   "nbconvert_exporter": "python",
   "pygments_lexer": "ipython3",
   "version": "3.9.13"
  },
  "vscode": {
   "interpreter": {
    "hash": "5a9a88a2c5b02ee7ff381c78ebfd1e5fdda0d3e731376f9b886f7f81c83cc469"
   }
  }
 },
 "nbformat": 4,
 "nbformat_minor": 5
}
