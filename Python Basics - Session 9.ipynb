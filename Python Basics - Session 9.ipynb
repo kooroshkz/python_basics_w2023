{
 "cells": [
  {
   "cell_type": "markdown",
   "id": "5bb6c3e5",
   "metadata": {},
   "source": [
    "<p align=\"center\"><img src = \"https://upload.wikimedia.org/wikipedia/commons/thumb/f/f8/Python_logo_and_wordmark.svg/2560px-Python_logo_and_wordmark.svg.png\" width=\"200\" height=\"auto\" style=\"display: block;margin-left: auto;margin-right: auto;margin-bottom:-30px\" /></p>\n",
    "<h1 align=\"center\" style=\"font-family:Calibri;color:#407daf;margin-left: 50px;text-align: center;\">Introduction to python</h1>\n",
    "<h2 align=\"center\" style=\"font-family:Calibri;color:#ffe262;margin-left: 50px;margin-top: 0px;text-align: center;\">Koorosh Komeilizadeh</h2>\n",
    "<p align=\"center\"><img src = \"https://www.irangi.org/uploads/images/4_1560089256_1291127534.png\" style=\"  -webkit-filter: drop-shadow(1px 1px 0 white)\n",
    "                  drop-shadow(-1px -1px 0 white);\n",
    "  filter: drop-shadow(1px 1px 0 white) \n",
    "          drop-shadow(-1px -1px 0 white);display: block;margin-left: auto;margin-right: auto;margin-top:15px\" width=\"250\" height=\"auto\"/></p>\n",
    "<h1 align=\"center\" style=\"margin-left:50px;\">Session 9</h1>"
   ]
  },
  {
   "cell_type": "markdown",
   "id": "ada422f6",
   "metadata": {},
   "source": [
    "# Session 7"
   ]
  },
  {
   "cell_type": "markdown",
   "id": "8211b7a8",
   "metadata": {},
   "source": [
    "## Main Task"
   ]
  },
  {
   "cell_type": "markdown",
   "id": "f2e17550",
   "metadata": {},
   "source": [
    "### Samad System\n",
    "Users should be able to define their accounts and then, in the food reservation section, similar to the second assignment of the fourth session, reserve their desired food. The difference is that the information and changes should be stored in a JSON file, and upon rerunning the program, the information should be read again."
   ]
  },
  {
   "cell_type": "markdown",
   "id": "31419c86",
   "metadata": {},
   "source": [
    "Sample input"
   ]
  },
  {
   "cell_type": "code",
   "execution_count": null,
   "id": "245b4374",
   "metadata": {},
   "outputs": [],
   "source": [
    "1. Login\n",
    "2. Create account\n",
    "\n",
    ">>> 2\n",
    "User : 40027035\n",
    "pass : 1234\n",
    "\n",
    "Reserve meal : 1-Pizza 2-Fish 3-Burger\n",
    ">>>2"
   ]
  },
  {
   "cell_type": "markdown",
   "id": "a9864000",
   "metadata": {},
   "source": [
    "Sample Output"
   ]
  },
  {
   "cell_type": "code",
   "execution_count": null,
   "id": "5aec5ff9",
   "metadata": {},
   "outputs": [],
   "source": [
    "User 40126032 have Burger\n",
    "User 40012049 have Fish\n",
    "User 9913012 have Pizza"
   ]
  },
  {
   "cell_type": "markdown",
   "id": "6d71fc67",
   "metadata": {},
   "source": [
    "### Solution"
   ]
  },
  {
   "cell_type": "markdown",
   "id": "a1ed32be-053b-4c74-8eac-f157423aff73",
   "metadata": {},
   "source": [
    "### *Notice\n",
    "The following solution is an example of messy code because it is a part of your final project to re-write it into clean code."
   ]
  },
  {
   "cell_type": "code",
   "execution_count": 1,
   "id": "6f68ca0b",
   "metadata": {
    "scrolled": true,
    "tags": []
   },
   "outputs": [
    {
     "name": "stdout",
     "output_type": "stream",
     "text": [
      "1. Login\n",
      "2. Register\n",
      " 2\n",
      "Student Number:  9927035\n",
      "Enter Password:  1234\n",
      "Enter username:  9927035\n",
      "Enter password:  1234\n"
     ]
    },
    {
     "name": "stdout",
     "output_type": "stream",
     "text": [
      "{0: 'Not Reserved', 1: 'Pizza', 2: 'Fish', 3: 'Burger'}\n"
     ]
    },
    {
     "name": "stdout",
     "output_type": "stream",
     "text": [
      "Enter your meal number:  3\n"
     ]
    },
    {
     "name": "stdout",
     "output_type": "stream",
     "text": [
      "User 40027035 has Fish\n",
      "User 9927035 has Burger\n"
     ]
    }
   ],
   "source": [
    "import json\n",
    "\n",
    "with open('Files/db.json', 'r') as myfile:\n",
    "    data = myfile.read()\n",
    "\n",
    "db = json.loads(data)\n",
    "\n",
    "meals = {\n",
    "    0: \"Not Reserved\",\n",
    "    1: \"Pizza\",\n",
    "    2: \"Fish\",\n",
    "    3: \"Burger\"\n",
    "}\n",
    "\n",
    "choice = int(input(\"1. Login\\n2. Register\\n\"))\n",
    "\n",
    "if choice == 2:\n",
    "    new_user = int(input(\"Student Number: \"))\n",
    "    db[new_user] = {\"pass\": int(input(\"Enter Password: \")), \"meal\": 0}\n",
    "else:\n",
    "    if not db:\n",
    "        print(\"You don't have any user\")\n",
    "        quit()\n",
    "\n",
    "def show():\n",
    "    for i in db:\n",
    "        print(f\"User {i} has {meals[db[i]['meal']]}\")\n",
    "\n",
    "user = int(input(\"Enter username: \"))\n",
    "\n",
    "if user in db:\n",
    "    pwd = int(input(\"Enter password: \"))\n",
    "    if pwd == db[user][\"pass\"]:\n",
    "        print(meals)\n",
    "        db[user][\"meal\"] = int(input(\"Enter your meal number: \"))\n",
    "        show()\n",
    "    else:\n",
    "        print(\"Password is wrong\")\n",
    "else:\n",
    "    print(\"User not found\")\n",
    "\n",
    "with open('Files/db.json', \"w\") as outfile:\n",
    "    json.dump(db, outfile)\n"
   ]
  },
  {
   "cell_type": "markdown",
   "id": "7fd64a93",
   "metadata": {},
   "source": [
    "<hr style=\"height: 2px;\">"
   ]
  },
  {
   "cell_type": "markdown",
   "id": "dd1cb360",
   "metadata": {},
   "source": [
    "# Session 8"
   ]
  },
  {
   "cell_type": "markdown",
   "id": "5e76c7b9",
   "metadata": {},
   "source": [
    "## Main Task"
   ]
  },
  {
   "cell_type": "markdown",
   "id": "5bebc5b1",
   "metadata": {},
   "source": [
    "Write a program in which there is a football player class that inherits attributes from the human class.\n",
    "\n",
    "The program is as follows: first, you need to create 22 football player objects. Then assign the names of the players below to each object. Using the random method and inheritance, divide these 22 names between two teams, A and B, and finally print the name of each player along with the name of the team they belong to.\n",
    "\n",
    "Player names:\n",
    "\n",
    "Hossein, Maziar, Akbar, Nima, Mehdi, Farhad, Mohammad, Khashayar, Milad, Mostafa, Amin, Saeed, Pouya, Pouria, Reza, Ali, Behzad, Soheil, Behrooz, Shahrooz, Saman, Mohsen"
   ]
  },
  {
   "cell_type": "markdown",
   "id": "2b2fcf58",
   "metadata": {},
   "source": [
    "### Solution"
   ]
  },
  {
   "cell_type": "code",
   "execution_count": 2,
   "id": "f8f9d666",
   "metadata": {},
   "outputs": [
    {
     "name": "stdout",
     "output_type": "stream",
     "text": [
      "Name:  Hossein  Team:  B\n",
      "Name:  Maziar  Team:  B\n",
      "Name:  Akbar  Team:  B\n",
      "Name:  Nima  Team:  B\n",
      "Name:  Mehdi  Team:  A\n",
      "Name:  Farhad  Team:  A\n",
      "Name:  Mohammad  Team:  B\n",
      "Name:  Khashayar  Team:  B\n",
      "Name:  Milad  Team:  B\n",
      "Name:  Mostafa  Team:  A\n",
      "Name:  Amin  Team:  A\n",
      "Name:  Saeed  Team:  B\n",
      "Name:  Pouya  Team:  B\n",
      "Name:  Pouria  Team:  B\n",
      "Name:  Reza  Team:  B\n",
      "Name:  Ali  Team:  A\n",
      "Name:  Behzad  Team:  B\n",
      "Name:  Soheil  Team:  A\n",
      "Name:  Behrooz  Team:  A\n",
      "Name:  Shahrooz  Team:  B\n",
      "Name:  Saman  Team:  A\n",
      "Name:  Mohsen  Team:  B\n"
     ]
    }
   ],
   "source": [
    "import random\n",
    "\n",
    "players = ['Hossein','Maziar','Akbar','Nima','Mehdi','Farhad','Mohammad','Khashayar','Milad','Mostafa','Amin','Saeed','Pouya','Pouria','Reza','Ali','Behzad','Soheil','Behrooz','Shahrooz','Saman','Mohsen']\n",
    "\n",
    "class Human:\n",
    "    def __init__(self,name):\n",
    "        self.name = name\n",
    "    \n",
    "class Footballist(Human):\n",
    "    def team_pick(self):\n",
    "        temp = round(random.random())\n",
    "        if temp == 1:\n",
    "            return \"A\"\n",
    "        else:\n",
    "            return \"B\"\n",
    "        \n",
    "for i in range(22):\n",
    "    player = Footballist(players[i])\n",
    "    print(\"Name: \",player.name ,\" Team: \",player.team_pick())"
   ]
  },
  {
   "cell_type": "markdown",
   "id": "27798d4f-2ad2-4d72-893d-c702036a7997",
   "metadata": {
    "tags": []
   },
   "source": [
    "<hr style=\"height: 2px;\">"
   ]
  },
  {
   "cell_type": "markdown",
   "id": "7c942688-34b0-4cb4-819e-9a9af2dcfc75",
   "metadata": {},
   "source": [
    "## Final Project"
   ]
  },
  {
   "cell_type": "markdown",
   "id": "338f6466-4b66-4065-b8f3-a4c6a5018603",
   "metadata": {
    "tags": []
   },
   "source": [
    "### Description"
   ]
  },
  {
   "cell_type": "markdown",
   "id": "567cca42-01bf-4392-a7c9-25684f796b32",
   "metadata": {},
   "source": [
    "Look at the main task of Session 7 and try to re-write the code, but this time focus on the following areas: Code Readability, Optimization, Code organization, Error-handling, Testing, and Documentation."
   ]
  },
  {
   "cell_type": "markdown",
   "id": "1092ea76-c88b-47cd-ab27-ce8983d92293",
   "metadata": {
    "tags": []
   },
   "source": [
    "### The program should be implemented according to the following flow chart."
   ]
  },
  {
   "cell_type": "code",
   "execution_count": null,
   "id": "44703118-6cb6-46ad-b58b-9a747a7d31ab",
   "metadata": {
    "tags": []
   },
   "outputs": [],
   "source": [
    "               +---------------------+\n",
    "               |   Start Main Logic  |\n",
    "               +---------------------+\n",
    "                         |\n",
    "              Load database from JSON\n",
    "                         |\n",
    "              +*******************+\n",
    "              | if db doesn't exist|\n",
    "              +*******************+\n",
    "                         |\n",
    "              Create an empty file\n",
    "      +-------------------+------------------+\n",
    "      |                                         |\n",
    "    Show \"User registered successfully\"     Read the empty file\n",
    "      +-------------------+------------------+\n",
    "                         |\n",
    "                  Convert JSON to dict\n",
    "                         |\n",
    "        +-----------------------+-----------------------+\n",
    "        |                                               |\n",
    "    Choose Login                          Choose Register\n",
    "        |                                               |\n",
    "      Login ---------------------------------------> Register\n",
    "        |                                               |\n",
    "        |                               Gather Info     | \n",
    "        +<---------------------------------------+-----+\n",
    "                         |\n",
    "       +---------------+----------------+\n",
    "       |    Correct username and password |\n",
    "       +---------------+----------------+\n",
    "                         |\n",
    "                         |\n",
    "       +---------------+----------------+\n",
    "       | Process to Reserve the Meal      |\n",
    "       +---------------+----------------+\n",
    "                         |\n",
    "                         |\n",
    "       +---------------+----------------+\n",
    "       | Display Meal Reservation Details |\n",
    "       +---------------+----------------+\n",
    "                         |\n",
    "                  Save database to JSON\n",
    "                         |\n",
    "                   Exit Program\n"
   ]
  }
 ],
 "metadata": {
  "kernelspec": {
   "display_name": "Python 3 (ipykernel)",
   "language": "python",
   "name": "python3"
  },
  "language_info": {
   "codemirror_mode": {
    "name": "ipython",
    "version": 3
   },
   "file_extension": ".py",
   "mimetype": "text/x-python",
   "name": "python",
   "nbconvert_exporter": "python",
   "pygments_lexer": "ipython3",
   "version": "3.10.9"
  }
 },
 "nbformat": 4,
 "nbformat_minor": 5
}
