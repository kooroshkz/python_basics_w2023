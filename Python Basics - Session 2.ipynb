{
 "cells": [
  {
   "cell_type": "markdown",
   "id": "b0b346f4",
   "metadata": {},
   "source": [
    "<p align=\"center\"><img src = \"https://upload.wikimedia.org/wikipedia/commons/thumb/f/f8/Python_logo_and_wordmark.svg/2560px-Python_logo_and_wordmark.svg.png\" width=\"200\" height=\"auto\" style=\"display: block;margin-left: auto;margin-right: auto;margin-bottom:-30px\" /></p>\n",
    "<h1 align=\"center\" style=\"font-family:Calibri;color:#407daf;margin-left: 50px;text-align: center;\">Introduction to python</h1>\n",
    "<h2 align=\"center\" style=\"font-family:Calibri;color:#ffe262;margin-left: 50px;margin-top: 0px;text-align: center;\">Koorosh Komeilizadeh</h2>\n",
    "<p align=\"center\"><img src = \"https://kooroshkz.com/aut/python/contents/source/img/autlogos.png\" style=\"display: block;margin-left: auto;margin-right: auto;margin-top:15px\" width=\"200\" height=\"auto\"/></p>\n",
    "<h1 align=\"center\" style=\"margin-left:50px;\">Session 2</h1>"
   ]
  },
  {
   "cell_type": "markdown",
   "id": "d7b2c86f",
   "metadata": {},
   "source": [
    "# Functions"
   ]
  },
  {
   "cell_type": "code",
   "execution_count": 1,
   "id": "f5cca531",
   "metadata": {},
   "outputs": [],
   "source": [
    "def greeting():\n",
    "    print(\"Hi, welcome back to class\")\n",
    "    print(\"We are learning how to code in python\")"
   ]
  },
  {
   "cell_type": "code",
   "execution_count": 2,
   "id": "c158e94b",
   "metadata": {},
   "outputs": [
    {
     "name": "stdout",
     "output_type": "stream",
     "text": [
      "Hi, welcome back to class\n",
      "We are learning how to code in python\n"
     ]
    }
   ],
   "source": [
    "greeting()"
   ]
  },
  {
   "cell_type": "markdown",
   "id": "d251138e",
   "metadata": {},
   "source": [
    "### Arguments"
   ]
  },
  {
   "cell_type": "code",
   "execution_count": 3,
   "id": "6cc204c0",
   "metadata": {},
   "outputs": [],
   "source": [
    "def hi(str):\n",
    "    print(\"Hi\",str,\"welcome back\")"
   ]
  },
  {
   "cell_type": "code",
   "execution_count": 4,
   "id": "cde33018",
   "metadata": {},
   "outputs": [
    {
     "name": "stdout",
     "output_type": "stream",
     "text": [
      "Enter your name: Koorosh\n",
      "Hi Koorosh welcome back\n"
     ]
    }
   ],
   "source": [
    "name = input(\"Enter your name: \")\n",
    "\n",
    "hi(name)"
   ]
  },
  {
   "cell_type": "code",
   "execution_count": 5,
   "id": "847ea508",
   "metadata": {},
   "outputs": [
    {
     "name": "stdout",
     "output_type": "stream",
     "text": [
      "Enter your name: Koorosh\n",
      "Hi Koorosh welcome back\n"
     ]
    }
   ],
   "source": [
    "hi(input(\"Enter your name: \"))"
   ]
  },
  {
   "cell_type": "code",
   "execution_count": 6,
   "id": "7de499f9",
   "metadata": {},
   "outputs": [],
   "source": [
    "dic = {40029043: 1938,\n",
    "       40126094: 8374,\n",
    "       9933029: 1380,\n",
    "       97133010: 3010}"
   ]
  },
  {
   "cell_type": "code",
   "execution_count": 7,
   "id": "bd9cb017",
   "metadata": {},
   "outputs": [],
   "source": [
    "def check(user,passcode):\n",
    "    if user in dic:\n",
    "        if passcode == dic[user]:\n",
    "            print(\"Reserve founded\")\n",
    "        else:\n",
    "            print(\"Passcode is wrong\")\n",
    "    else:\n",
    "        print(\"User not found\")"
   ]
  },
  {
   "cell_type": "code",
   "execution_count": 11,
   "id": "d1d5f156",
   "metadata": {},
   "outputs": [
    {
     "name": "stdout",
     "output_type": "stream",
     "text": [
      "Enter your username: 9933029\n",
      "Enter your Passcode: 1381\n",
      "Passcode is wrong\n"
     ]
    }
   ],
   "source": [
    "stu_numb = int(input(\"Enter your username: \"))\n",
    "stu_pass = int(input(\"Enter your Passcode: \"))\n",
    "\n",
    "\n",
    "check(stu_numb,stu_pass)"
   ]
  },
  {
   "cell_type": "markdown",
   "id": "c64acb55",
   "metadata": {},
   "source": [
    "### Default Argument"
   ]
  },
  {
   "cell_type": "code",
   "execution_count": 12,
   "id": "f153b2ee",
   "metadata": {},
   "outputs": [
    {
     "name": "stdout",
     "output_type": "stream",
     "text": [
      "Koorosh is Bachelor student\n"
     ]
    }
   ],
   "source": [
    "def bio(name,degree = \"Bachelor\"):\n",
    "    print(name,\"is\",degree,\"student\")\n",
    "\n",
    "bio(\"Koorosh\")"
   ]
  },
  {
   "cell_type": "markdown",
   "id": "3653f0a3",
   "metadata": {},
   "source": [
    "### Return Value"
   ]
  },
  {
   "cell_type": "code",
   "execution_count": 16,
   "id": "d976774d",
   "metadata": {},
   "outputs": [
    {
     "name": "stdout",
     "output_type": "stream",
     "text": [
      "a: 4\n",
      "b: 5\n",
      "c: 2\n",
      "-7\n"
     ]
    }
   ],
   "source": [
    "# comment\n",
    "# ax^2 + bx + c = 0\n",
    "\n",
    "A = int(input(\"a: \"))\n",
    "B = int(input(\"b: \"))\n",
    "C = int(input(\"c: \"))\n",
    "\n",
    "def delta(a,b,c):\n",
    "    answer = b**2 - 4*a*c\n",
    "    return answer\n",
    "\n",
    "print(delta(A,B,C))"
   ]
  },
  {
   "cell_type": "code",
   "execution_count": 18,
   "id": "fb3bfd01",
   "metadata": {},
   "outputs": [
    {
     "name": "stdout",
     "output_type": "stream",
     "text": [
      "a: 4\n",
      "b: 5\n",
      "c: 2\n",
      "-7\n"
     ]
    }
   ],
   "source": [
    "#4,5,2 return negative value\n",
    "\n",
    "A = int(input(\"a: \"))\n",
    "B = int(input(\"b: \"))\n",
    "C = int(input(\"c: \"))\n",
    "\n",
    "def delta(a,b,c):\n",
    "    return b**2 - 4*a*c\n",
    "\n",
    "print(delta(A,B,C))"
   ]
  },
  {
   "cell_type": "markdown",
   "id": "534399b4",
   "metadata": {},
   "source": [
    "### Built-in Functions"
   ]
  },
  {
   "cell_type": "code",
   "execution_count": 19,
   "id": "372f45c0",
   "metadata": {},
   "outputs": [
    {
     "name": "stdout",
     "output_type": "stream",
     "text": [
      "-7\n"
     ]
    }
   ],
   "source": [
    "print(delta(A,B,C))"
   ]
  },
  {
   "cell_type": "code",
   "execution_count": 20,
   "id": "4f2d5714",
   "metadata": {},
   "outputs": [
    {
     "name": "stdout",
     "output_type": "stream",
     "text": [
      "7\n"
     ]
    }
   ],
   "source": [
    "print(abs(delta(A,B,C)))"
   ]
  },
  {
   "cell_type": "code",
   "execution_count": 21,
   "id": "48e57754",
   "metadata": {},
   "outputs": [
    {
     "data": {
      "text/plain": [
       "187221176"
      ]
     },
     "execution_count": 21,
     "metadata": {},
     "output_type": "execute_result"
    }
   ],
   "source": [
    "sum(dic)"
   ]
  },
  {
   "cell_type": "code",
   "execution_count": 22,
   "id": "563304bd",
   "metadata": {},
   "outputs": [
    {
     "data": {
      "text/plain": [
       "9933029"
      ]
     },
     "execution_count": 22,
     "metadata": {},
     "output_type": "execute_result"
    }
   ],
   "source": [
    "min(dic)"
   ]
  },
  {
   "cell_type": "code",
   "execution_count": 23,
   "id": "d03cec4b",
   "metadata": {},
   "outputs": [
    {
     "data": {
      "text/plain": [
       "97133010"
      ]
     },
     "execution_count": 23,
     "metadata": {},
     "output_type": "execute_result"
    }
   ],
   "source": [
    "max(dic)"
   ]
  },
  {
   "cell_type": "code",
   "execution_count": 24,
   "id": "267f26e1",
   "metadata": {},
   "outputs": [
    {
     "data": {
      "text/plain": [
       "64"
      ]
     },
     "execution_count": 24,
     "metadata": {},
     "output_type": "execute_result"
    }
   ],
   "source": [
    "pow(2,6)"
   ]
  },
  {
   "cell_type": "code",
   "execution_count": 25,
   "id": "ef98cb51",
   "metadata": {},
   "outputs": [
    {
     "data": {
      "text/plain": [
       "6"
      ]
     },
     "execution_count": 25,
     "metadata": {},
     "output_type": "execute_result"
    }
   ],
   "source": [
    "len(\"Python\")"
   ]
  },
  {
   "cell_type": "markdown",
   "id": "38b96e32",
   "metadata": {},
   "source": [
    "## Recursion Function"
   ]
  },
  {
   "cell_type": "code",
   "execution_count": 26,
   "id": "a68975be",
   "metadata": {},
   "outputs": [
    {
     "name": "stdout",
     "output_type": "stream",
     "text": [
      "Enter number: 3\n",
      "1\n",
      "3\n",
      "6\n"
     ]
    },
    {
     "data": {
      "text/plain": [
       "6"
      ]
     },
     "execution_count": 26,
     "metadata": {},
     "output_type": "execute_result"
    }
   ],
   "source": [
    "def tri_recursion(k):\n",
    "  if(k > 0):\n",
    "    result = k + tri_recursion(k - 1)\n",
    "    print(result)\n",
    "  else:\n",
    "    result = 0\n",
    "  return result\n",
    "\n",
    "tri_recursion(int(input(\"Enter number: \")))"
   ]
  },
  {
   "cell_type": "markdown",
   "id": "8fa08c26",
   "metadata": {},
   "source": [
    "## Calculate Factorial with Recursion Function"
   ]
  },
  {
   "cell_type": "code",
   "execution_count": null,
   "id": "1fd5359f",
   "metadata": {},
   "outputs": [],
   "source": [
    "def fac(x):\n",
    "    \n",
    "    if x == 1:\n",
    "        return 1\n",
    "    else:\n",
    "        return (x * fac(x-1))\n",
    "\n",
    "\n",
    "num = 3\n",
    "\n",
    "print(\"The factorial of\", num, \"is\", fac(num))"
   ]
  },
  {
   "cell_type": "markdown",
   "id": "904c3908",
   "metadata": {},
   "source": [
    "### += / -= / *= / /="
   ]
  },
  {
   "cell_type": "code",
   "execution_count": null,
   "id": "e46517e3",
   "metadata": {},
   "outputs": [],
   "source": [
    "a = 10\n",
    "a += 1 # a = a + 1\n",
    "print(a)\n",
    "\n",
    "a -= 2 # a = a - 2\n",
    "print(a)\n",
    "\n",
    "a *= 3 # a = a * 3\n",
    "print(a)\n",
    "\n",
    "a /= 9 # a = a / 9\n",
    "print(a)"
   ]
  },
  {
   "cell_type": "markdown",
   "id": "d87261ec",
   "metadata": {},
   "source": [
    "## Iteration"
   ]
  },
  {
   "cell_type": "markdown",
   "id": "bc3c9528",
   "metadata": {},
   "source": [
    "## While"
   ]
  },
  {
   "cell_type": "code",
   "execution_count": 28,
   "id": "6b5d1276",
   "metadata": {},
   "outputs": [
    {
     "name": "stdout",
     "output_type": "stream",
     "text": [
      "1\n",
      "2\n",
      "3\n",
      "4\n",
      "5\n",
      "i is no longer less than 6\n"
     ]
    }
   ],
   "source": [
    "i = 1\n",
    "while i < 6:\n",
    "  print(i)\n",
    "  i += 1\n",
    "else:\n",
    "  print(\"i is no longer less than 6\")"
   ]
  },
  {
   "cell_type": "code",
   "execution_count": 30,
   "id": "622c2a0a",
   "metadata": {},
   "outputs": [
    {
     "name": "stdout",
     "output_type": "stream",
     "text": [
      "Enter posetive number: 345\n",
      "Enter posetive number: 76\n",
      "Enter posetive number: -3\n"
     ]
    }
   ],
   "source": [
    "while 1:\n",
    "    x = int(input(\"Enter posetive number: \"))\n",
    "    if x <= 0:\n",
    "        break"
   ]
  },
  {
   "cell_type": "markdown",
   "id": "0e3823e3",
   "metadata": {},
   "source": [
    "$\\sum_{x = a}^{b} (3x+2)$"
   ]
  },
  {
   "cell_type": "code",
   "execution_count": 31,
   "id": "b790ec0d",
   "metadata": {},
   "outputs": [
    {
     "name": "stdout",
     "output_type": "stream",
     "text": [
      "a: 1\n",
      "b: 4\n",
      "38\n"
     ]
    }
   ],
   "source": [
    "a = int(input(\"a: \"))\n",
    "b = int(input(\"b: \"))\n",
    "temp = 0\n",
    "\n",
    "while a <= b:\n",
    "    temp += 3*a+2\n",
    "    a += 1\n",
    "\n",
    "print(temp)"
   ]
  },
  {
   "cell_type": "markdown",
   "id": "d31fcc2e",
   "metadata": {},
   "source": [
    "## Factorial with While Loop"
   ]
  },
  {
   "cell_type": "code",
   "execution_count": null,
   "id": "1bee2426",
   "metadata": {},
   "outputs": [],
   "source": [
    "n = int(input(\"Enter the number: \"))\n",
    "f =n\n",
    "r = 1\n",
    "\n",
    "while f != 0 :\n",
    "    r *= f \n",
    "    f -= 1\n",
    "print(\"Factorial of\",n,\"is:\",r)"
   ]
  },
  {
   "cell_type": "markdown",
   "id": "34797a16",
   "metadata": {},
   "source": [
    "## For Loop"
   ]
  },
  {
   "cell_type": "markdown",
   "id": "a7a18915",
   "metadata": {},
   "source": [
    "#### Range()"
   ]
  },
  {
   "cell_type": "code",
   "execution_count": 32,
   "id": "29506668",
   "metadata": {},
   "outputs": [
    {
     "name": "stdout",
     "output_type": "stream",
     "text": [
      "0\n",
      "1\n",
      "2\n",
      "3\n",
      "4\n",
      "5\n",
      "6\n",
      "7\n",
      "8\n",
      "9\n"
     ]
    }
   ],
   "source": [
    "for i in range(10):\n",
    "    print(i)"
   ]
  },
  {
   "cell_type": "code",
   "execution_count": 33,
   "id": "3fa9e2a5",
   "metadata": {},
   "outputs": [
    {
     "name": "stdout",
     "output_type": "stream",
     "text": [
      "1\n",
      "2\n",
      "3\n",
      "4\n",
      "5\n",
      "6\n",
      "7\n",
      "8\n",
      "9\n"
     ]
    }
   ],
   "source": [
    "for i in range(1,10):\n",
    "    print(i)"
   ]
  },
  {
   "cell_type": "code",
   "execution_count": 34,
   "id": "40171d19",
   "metadata": {},
   "outputs": [
    {
     "name": "stdout",
     "output_type": "stream",
     "text": [
      "1\n",
      "3\n",
      "5\n",
      "7\n",
      "9\n"
     ]
    }
   ],
   "source": [
    "for x in range(1, 10, 2):\n",
    "  print(x)"
   ]
  },
  {
   "cell_type": "code",
   "execution_count": 35,
   "id": "65499a35",
   "metadata": {},
   "outputs": [
    {
     "name": "stdout",
     "output_type": "stream",
     "text": [
      "9\n",
      "7\n",
      "5\n",
      "3\n",
      "1\n"
     ]
    }
   ],
   "source": [
    "for x in range(9, 0, -2):\n",
    "  print(x)"
   ]
  },
  {
   "cell_type": "code",
   "execution_count": 36,
   "id": "dfc20556",
   "metadata": {},
   "outputs": [
    {
     "name": "stdout",
     "output_type": "stream",
     "text": [
      "P\n",
      "y\n",
      "t\n",
      "h\n",
      "o\n",
      "n\n"
     ]
    }
   ],
   "source": [
    "for x in \"Python\":\n",
    "    print(x)"
   ]
  },
  {
   "cell_type": "code",
   "execution_count": 37,
   "id": "4177bcad",
   "metadata": {},
   "outputs": [
    {
     "name": "stdout",
     "output_type": "stream",
     "text": [
      "0\n",
      "1\n",
      "2\n",
      "3\n",
      "4\n",
      "5\n",
      "Finished!\n"
     ]
    }
   ],
   "source": [
    "for x in range(6):\n",
    "  print(x)\n",
    "else:\n",
    "  print(\"Finished!\")"
   ]
  },
  {
   "cell_type": "code",
   "execution_count": 38,
   "id": "1e86f305",
   "metadata": {},
   "outputs": [
    {
     "name": "stdout",
     "output_type": "stream",
     "text": [
      "0\n",
      "1\n",
      "2\n"
     ]
    }
   ],
   "source": [
    "for x in range(6):\n",
    "  if x == 3: \n",
    "    break\n",
    "  print(x)\n",
    "else:\n",
    "  print(\"Finished!\")"
   ]
  }
 ],
 "metadata": {
  "kernelspec": {
   "display_name": "Python 3 (ipykernel)",
   "language": "python",
   "name": "python3"
  },
  "language_info": {
   "codemirror_mode": {
    "name": "ipython",
    "version": 3
   },
   "file_extension": ".py",
   "mimetype": "text/x-python",
   "name": "python",
   "nbconvert_exporter": "python",
   "pygments_lexer": "ipython3",
   "version": "3.9.13"
  },
  "vscode": {
   "interpreter": {
    "hash": "5a9a88a2c5b02ee7ff381c78ebfd1e5fdda0d3e731376f9b886f7f81c83cc469"
   }
  }
 },
 "nbformat": 4,
 "nbformat_minor": 5
}
