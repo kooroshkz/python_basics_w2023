{
 "cells": [
  {
   "cell_type": "markdown",
   "id": "5bb6c3e5",
   "metadata": {},
   "source": [
    "<p align=\"center\"><img src = \"https://upload.wikimedia.org/wikipedia/commons/thumb/f/f8/Python_logo_and_wordmark.svg/2560px-Python_logo_and_wordmark.svg.png\" width=\"200\" height=\"auto\" style=\"display: block;margin-left: auto;margin-right: auto;margin-bottom:-30px\" /></p>\n",
    "<h1 align=\"center\" style=\"font-family:Calibri;color:#407daf;margin-left: 50px;text-align: center;\">Introduction to python</h1>\n",
    "<h2 align=\"center\" style=\"font-family:Calibri;color:#ffe262;margin-left: 50px;margin-top: 0px;text-align: center;\">Koorosh Komeilizadeh</h2>\n",
    "<p align=\"center\"><img src = \"https://kooroshkz.com/aut/python/contents/source/img/autlogos.png\" style=\"display: block;margin-left: auto;margin-right: auto;margin-top:15px\" width=\"200\" height=\"auto\"/></p>\n",
    "<h1 align=\"center\" style=\"margin-left:50px;\">Session 3</h1>"
   ]
  },
  {
   "cell_type": "markdown",
   "id": "ada422f6",
   "metadata": {},
   "source": [
    "# Session 1"
   ]
  },
  {
   "cell_type": "markdown",
   "id": "8211b7a8",
   "metadata": {},
   "source": [
    "## Task 1"
   ]
  },
  {
   "cell_type": "markdown",
   "id": "f2e17550",
   "metadata": {},
   "source": [
    "### چاپ بزرگترین عدد از بین سه ورودی"
   ]
  },
  {
   "cell_type": "markdown",
   "id": "31419c86",
   "metadata": {},
   "source": [
    "نمونه ورودی"
   ]
  },
  {
   "cell_type": "code",
   "execution_count": null,
   "id": "245b4374",
   "metadata": {},
   "outputs": [],
   "source": [
    "32\n",
    "93\n",
    "18"
   ]
  },
  {
   "cell_type": "markdown",
   "id": "a9864000",
   "metadata": {},
   "source": [
    "نمونه خروجی"
   ]
  },
  {
   "cell_type": "code",
   "execution_count": null,
   "id": "5aec5ff9",
   "metadata": {},
   "outputs": [],
   "source": [
    "93"
   ]
  },
  {
   "cell_type": "markdown",
   "id": "6d71fc67",
   "metadata": {},
   "source": [
    "### Solution"
   ]
  },
  {
   "cell_type": "code",
   "execution_count": null,
   "id": "6f68ca0b",
   "metadata": {},
   "outputs": [],
   "source": [
    "a = float(input(\"Enter the first number: \"))\n",
    "\n",
    "b = float(input(\"Enter the second number: \"))\n",
    "\n",
    "c = float(input(\"Enter the third number: \"))\n",
    "\n",
    "\n",
    "\n",
    "if a >= b and a >= c:\n",
    "\n",
    "    print(a, \"is the largest number.\")\n",
    "\n",
    "elif b >= a and b >= c:\n",
    "\n",
    "    print(b, \"is the largest number.\")\n",
    "\n",
    "else:\n",
    "\n",
    "    print(c, \"is the largest number.\")"
   ]
  },
  {
   "cell_type": "markdown",
   "id": "7fd64a93",
   "metadata": {},
   "source": [
    "<hr style=\"height: 2px;\">"
   ]
  },
  {
   "cell_type": "markdown",
   "id": "654b0aa4",
   "metadata": {},
   "source": [
    "## Task 2"
   ]
  },
  {
   "cell_type": "markdown",
   "id": "cfad70ff",
   "metadata": {},
   "source": [
    "### BMI برنامه محاسبه"
   ]
  },
  {
   "cell_type": "markdown",
   "id": "494e83ff",
   "metadata": {},
   "source": [
    "<table>\n",
    "    <tbody>\n",
    "        <tr>\n",
    "            <th>Weight Range</th>\n",
    "            <th>BMI</th>\n",
    "            <th>Considered</th>\n",
    "        </tr>\n",
    "        <tr>\n",
    "            <td>124 lbs or less</td>\n",
    "            <td>Below 18.5</td>\n",
    "            <td>Underweight</td>\n",
    "        </tr>\n",
    "        <tr>\n",
    "            <td>125 lbs to 168 lbs</td>\n",
    "            <td>18.5 to 24.9</td>\n",
    "            <td>Healthy weight</td>\n",
    "        </tr>\n",
    "        <tr>\n",
    "            <td>169 lbs to 202 lbs</td>\n",
    "            <td>25.0 to 29.9</td>\n",
    "            <td>Overweight</td>\n",
    "        </tr>\n",
    "            <tr>\n",
    "            <td>203 lbs or more</td>\n",
    "            <td>30 or higher</td>\n",
    "            <td>Obesity</td>\n",
    "        </tr>\n",
    "            <tr>\n",
    "            <td>271 lbs or more</td>\n",
    "            <td>40 or higher</td>\n",
    "            <td>Class 3 Obesity</td>\n",
    "        </tr>\n",
    "    </tbody>\n",
    "</table>"
   ]
  },
  {
   "cell_type": "markdown",
   "id": "b4a7bc00",
   "metadata": {},
   "source": [
    "نمونه ورودی"
   ]
  },
  {
   "cell_type": "code",
   "execution_count": null,
   "id": "e77882af",
   "metadata": {},
   "outputs": [],
   "source": [
    "Enter your height (m): 1.9\n",
    "Enter your weight (Kg): 90"
   ]
  },
  {
   "cell_type": "markdown",
   "id": "58384bd9",
   "metadata": {},
   "source": [
    "نمونه خروجی"
   ]
  },
  {
   "cell_type": "code",
   "execution_count": null,
   "id": "ade8d133",
   "metadata": {},
   "outputs": [],
   "source": [
    "You have healthy weight"
   ]
  },
  {
   "cell_type": "markdown",
   "id": "016e2734",
   "metadata": {},
   "source": [
    "### Solution"
   ]
  },
  {
   "cell_type": "code",
   "execution_count": null,
   "id": "9870bbcf",
   "metadata": {},
   "outputs": [],
   "source": [
    "height = float(input(\"Enter your height (m): \"))\n",
    "\n",
    "weight = int(input(\"Enter your weight (Kg): \"))\n",
    "\n",
    "bmi = weight / (height**2)\n",
    "\n",
    "print(bmi)\n",
    "\n",
    "if bmi >= 40:\n",
    "    print(\"You have Class 3 Obesity\")\n",
    "\n",
    "elif bmi >=30:\n",
    "    print(\"You have Obesity\")\n",
    "\n",
    "elif 25 <= bmi < 30:\n",
    "    print(\"You are Overweighted\")\n",
    "\n",
    "elif 18.5 <= bmi < 25 :\n",
    "    print(\"You have healthy weight\")\n",
    "\n",
    "else:\n",
    "    print(\"Your are Underweighted\")"
   ]
  },
  {
   "cell_type": "markdown",
   "id": "55d73707",
   "metadata": {},
   "source": [
    "<hr style=\"height: 1px;\">"
   ]
  },
  {
   "cell_type": "markdown",
   "id": "87b8133d",
   "metadata": {},
   "source": [
    "## Task 3"
   ]
  },
  {
   "cell_type": "markdown",
   "id": "0f1025f4",
   "metadata": {},
   "source": [
    "### دو برابر کننده ی برعکس عدد سه رقمی ورودی"
   ]
  },
  {
   "cell_type": "markdown",
   "id": "6b742afa",
   "metadata": {},
   "source": [
    "نمونه ورودی"
   ]
  },
  {
   "cell_type": "code",
   "execution_count": null,
   "id": "446fb3f8",
   "metadata": {},
   "outputs": [],
   "source": [
    "123\n",
    "# 2 * ( 321 )"
   ]
  },
  {
   "cell_type": "markdown",
   "id": "59a507df",
   "metadata": {},
   "source": [
    "نمونه خروجی"
   ]
  },
  {
   "cell_type": "code",
   "execution_count": null,
   "id": "acb70675",
   "metadata": {},
   "outputs": [],
   "source": [
    "642"
   ]
  },
  {
   "cell_type": "markdown",
   "id": "10cbd384",
   "metadata": {},
   "source": [
    "### Solution"
   ]
  },
  {
   "cell_type": "code",
   "execution_count": null,
   "id": "963ffec7",
   "metadata": {},
   "outputs": [],
   "source": [
    "num = int(input(\"Enter a three-digit number: \"))\n",
    "\n",
    "ones = num % 10\n",
    "\n",
    "tens = (num // 10) % 10\n",
    "\n",
    "hundreds = (num // 100) % 10\n",
    "\n",
    "print(\"Twice the reverse is:\", ones * 200 + tens * 20 + hundreds * 2)\n",
    "\n",
    "#or if we knew list and indexes\n",
    "\n",
    "num = int(input(\"Enter a three-digit number: \"))\n",
    "\n",
    "num_str = str(num)\n",
    "\n",
    "reverse_str = num_str[::-1]\n",
    "\n",
    "reverse_num = int(reverse_str)\n",
    "\n",
    "print(\"Twice the reverse is:\", reverse_num * 2)"
   ]
  },
  {
   "cell_type": "markdown",
   "id": "0f9956fd",
   "metadata": {},
   "source": [
    "<hr style=\"height: 1px;\">"
   ]
  },
  {
   "cell_type": "markdown",
   "id": "dd1cb360",
   "metadata": {},
   "source": [
    "# Session 2"
   ]
  },
  {
   "cell_type": "markdown",
   "id": "5e76c7b9",
   "metadata": {},
   "source": [
    "## Task 1"
   ]
  },
  {
   "cell_type": "markdown",
   "id": "5bebc5b1",
   "metadata": {},
   "source": [
    "### تابع تشخیص اعداد اول "
   ]
  },
  {
   "cell_type": "markdown",
   "id": "520cd53b",
   "metadata": {},
   "source": [
    "نمونه ورودی"
   ]
  },
  {
   "cell_type": "code",
   "execution_count": null,
   "id": "c8b477bf",
   "metadata": {},
   "outputs": [],
   "source": [
    "prime(59)\n",
    "prime(217)"
   ]
  },
  {
   "cell_type": "markdown",
   "id": "8216ba7b",
   "metadata": {},
   "source": [
    "نمونه خروجی"
   ]
  },
  {
   "cell_type": "code",
   "execution_count": null,
   "id": "3c73cabd",
   "metadata": {},
   "outputs": [],
   "source": [
    "True\n",
    "False"
   ]
  },
  {
   "cell_type": "markdown",
   "id": "2b2fcf58",
   "metadata": {},
   "source": [
    "### Solution"
   ]
  },
  {
   "cell_type": "code",
   "execution_count": null,
   "id": "f8f9d666",
   "metadata": {},
   "outputs": [],
   "source": [
    "def is_prime(x):\n",
    "    if(x==0 or x==1):\n",
    "        return False\n",
    "    for n in range(2,x-1):\n",
    "        if (x % n) == 0:\n",
    "            return False\n",
    "    else:\n",
    "        return True"
   ]
  },
  {
   "cell_type": "markdown",
   "id": "0c02b60a",
   "metadata": {},
   "source": [
    "<hr style=\"height: 1px;\">"
   ]
  },
  {
   "cell_type": "markdown",
   "id": "f382c98d",
   "metadata": {},
   "source": [
    "## Task 2"
   ]
  },
  {
   "cell_type": "markdown",
   "id": "a6f49311",
   "metadata": {},
   "source": [
    "### عدد با بیشترین تعداد مقسوم علیه"
   ]
  },
  {
   "cell_type": "markdown",
   "id": "9e653fd8",
   "metadata": {},
   "source": [
    "برنامه ده عدد از کاربر دریافت و عدد با بیشترین مفسوم علیه به همراه تعداد آنها را چاپ کند\n",
    "اگر چند عدد این حالت را داشتند، بیشترینشان چاپ شود"
   ]
  },
  {
   "cell_type": "markdown",
   "id": "525cc196",
   "metadata": {},
   "source": [
    "نمونه ورودی"
   ]
  },
  {
   "cell_type": "code",
   "execution_count": null,
   "id": "ea467afd",
   "metadata": {},
   "outputs": [],
   "source": [
    "529\n",
    "672\n",
    "933\n",
    "882\n",
    "869\n",
    "801\n",
    "660\n",
    "767\n",
    "879\n",
    "985"
   ]
  },
  {
   "cell_type": "markdown",
   "id": "21a504db",
   "metadata": {},
   "source": [
    "نمونه خروجی"
   ]
  },
  {
   "cell_type": "code",
   "execution_count": 2,
   "id": "ddc103a6",
   "metadata": {},
   "outputs": [
    {
     "ename": "SyntaxError",
     "evalue": "invalid syntax (3773592418.py, line 1)",
     "output_type": "error",
     "traceback": [
      "\u001b[1;36m  File \u001b[1;32m\"C:\\Users\\kkome\\AppData\\Local\\Temp\\ipykernel_3084\\3773592418.py\"\u001b[1;36m, line \u001b[1;32m1\u001b[0m\n\u001b[1;33m    672 24\u001b[0m\n\u001b[1;37m        ^\u001b[0m\n\u001b[1;31mSyntaxError\u001b[0m\u001b[1;31m:\u001b[0m invalid syntax\n"
     ]
    }
   ],
   "source": [
    "672 24"
   ]
  },
  {
   "cell_type": "markdown",
   "id": "ada31ad1",
   "metadata": {},
   "source": [
    "## Solution"
   ]
  },
  {
   "cell_type": "code",
   "execution_count": null,
   "id": "b76462a6",
   "metadata": {},
   "outputs": [],
   "source": [
    "def counter(num):\n",
    "    count = 0\n",
    "    for i in range(1,num + 1):\n",
    "        if num % i == 0:\n",
    "            count += 1\n",
    "    return int(count)\n",
    "\n",
    "n = 10\n",
    "\n",
    "master = 1\n",
    "\n",
    "while n !=0:\n",
    "    x = int(input(\"Enter number: \"))\n",
    "    if counter(x) > counter(master):\n",
    "        master = x\n",
    "    n -= 1\n",
    "\n",
    "\n",
    "print(master, counter(master))\n"
   ]
  },
  {
   "cell_type": "markdown",
   "id": "7116d779",
   "metadata": {},
   "source": [
    "<hr style=\"height: 1px;\">"
   ]
  },
  {
   "cell_type": "markdown",
   "id": "fc21bdb3",
   "metadata": {},
   "source": [
    "## Task 3"
   ]
  },
  {
   "cell_type": "markdown",
   "id": "bbe4ff2e",
   "metadata": {},
   "source": [
    "### تابع فرمول والیس (حالت ضرب سیگما)"
   ]
  },
  {
   "cell_type": "markdown",
   "id": "860f0c64",
   "metadata": {},
   "source": [
    "تابعی بنویسید که ابتدا و انتها را دریافت\n",
    "و حاصل عبارت زیر را بدست بیاورد"
   ]
  },
  {
   "cell_type": "markdown",
   "id": "e5319489",
   "metadata": {},
   "source": [
    "$\\prod_{x = a}^{b} 2x+3$"
   ]
  },
  {
   "cell_type": "markdown",
   "id": "f1f35969",
   "metadata": {},
   "source": [
    "نمونه ورودی"
   ]
  },
  {
   "cell_type": "code",
   "execution_count": null,
   "id": "2bb23aad",
   "metadata": {},
   "outputs": [],
   "source": [
    "a = 3\n",
    "b = 6"
   ]
  },
  {
   "cell_type": "markdown",
   "id": "8396fd58",
   "metadata": {},
   "source": [
    "نمونه خروجی"
   ]
  },
  {
   "cell_type": "code",
   "execution_count": null,
   "id": "4b72b1d6",
   "metadata": {},
   "outputs": [],
   "source": [
    "19305"
   ]
  },
  {
   "cell_type": "markdown",
   "id": "8bb7c458",
   "metadata": {},
   "source": [
    "## Solution"
   ]
  },
  {
   "cell_type": "code",
   "execution_count": null,
   "id": "815bd196",
   "metadata": {},
   "outputs": [],
   "source": [
    "def prod(a,b+1):\n",
    "    temp = 1\n",
    "    for x in range(a,b+1):\n",
    "        temp *= 2*x + 3\n",
    "    return temp\n",
    "\n",
    "print(prod(int(input(\"a = \")),int(input(\"b = \"))))"
   ]
  }
 ],
 "metadata": {
  "kernelspec": {
   "display_name": "Python 3 (ipykernel)",
   "language": "python",
   "name": "python3"
  },
  "language_info": {
   "codemirror_mode": {
    "name": "ipython",
    "version": 3
   },
   "file_extension": ".py",
   "mimetype": "text/x-python",
   "name": "python",
   "nbconvert_exporter": "python",
   "pygments_lexer": "ipython3",
   "version": "3.9.13"
  }
 },
 "nbformat": 4,
 "nbformat_minor": 5
}
