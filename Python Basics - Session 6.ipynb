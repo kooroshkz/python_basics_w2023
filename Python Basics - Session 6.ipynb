{
 "cells": [
  {
   "cell_type": "markdown",
   "id": "5bb6c3e5",
   "metadata": {},
   "source": [
    "<p align=\"center\"><img src = \"https://upload.wikimedia.org/wikipedia/commons/thumb/f/f8/Python_logo_and_wordmark.svg/2560px-Python_logo_and_wordmark.svg.png\" width=\"200\" height=\"auto\" style=\"display: block;margin-left: auto;margin-right: auto;margin-bottom:-30px\" /></p>\n",
    "<h1 align=\"center\" style=\"font-family:Calibri;color:#407daf;margin-left: 50px;text-align: center;\">Introduction to python</h1>\n",
    "<h2 align=\"center\" style=\"font-family:Calibri;color:#ffe262;margin-left: 50px;margin-top: 0px;text-align: center;\">Koorosh Komeilizadeh</h2>\n",
    "<p align=\"center\"><img src = \"https://www.irangi.org/uploads/images/4_1560089256_1291127534.png\" style=\"  -webkit-filter: drop-shadow(1px 1px 0 white)\n",
    "                  drop-shadow(-1px -1px 0 white);\n",
    "  filter: drop-shadow(1px 1px 0 white) \n",
    "          drop-shadow(-1px -1px 0 white);display: block;margin-left: auto;margin-right: auto;margin-top:15px\" width=\"250\" height=\"auto\"/></p>\n",
    "<h1 align=\"center\" style=\"margin-left:50px;\">Session 6</h1>"
   ]
  },
  {
   "cell_type": "markdown",
   "id": "ada422f6",
   "metadata": {},
   "source": [
    "# Session 4"
   ]
  },
  {
   "cell_type": "markdown",
   "id": "8211b7a8",
   "metadata": {},
   "source": [
    "## Task 1"
   ]
  },
  {
   "cell_type": "markdown",
   "id": "f2e17550",
   "metadata": {},
   "source": [
    "### مرتب کردن اسم های ورودی"
   ]
  },
  {
   "cell_type": "markdown",
   "id": "31419c86",
   "metadata": {},
   "source": [
    "نمونه ورودی"
   ]
  },
  {
   "cell_type": "code",
   "execution_count": null,
   "id": "245b4374",
   "metadata": {},
   "outputs": [],
   "source": [
    "ko oroSh   \n",
    "SAm \n",
    "Maha  Tma "
   ]
  },
  {
   "cell_type": "markdown",
   "id": "a9864000",
   "metadata": {},
   "source": [
    "نمونه خروجی"
   ]
  },
  {
   "cell_type": "code",
   "execution_count": null,
   "id": "5aec5ff9",
   "metadata": {},
   "outputs": [],
   "source": [
    "Koorosh\n",
    "Sam\n",
    "Mahatma"
   ]
  },
  {
   "cell_type": "markdown",
   "id": "6d71fc67",
   "metadata": {},
   "source": [
    "### Solution"
   ]
  },
  {
   "cell_type": "code",
   "execution_count": 1,
   "id": "6f68ca0b",
   "metadata": {
    "scrolled": true
   },
   "outputs": [
    {
     "name": "stdout",
     "output_type": "stream",
     "text": [
      "Enter the names and submit 0 when finished.\n",
      "  KooRo SH\n",
      "Mah At mA\n",
      "Sa        M\n",
      "0\n",
      "['  KooRo SH', 'Mah At mA', 'Sa        M']\n",
      "['Koorosh', 'Mahatma', 'Sam']\n"
     ]
    }
   ],
   "source": [
    "print(\"Enter the names and submit 0 when finished.\")\n",
    "names = []\n",
    "\n",
    "while 1:\n",
    "    names.append(input())\n",
    "    if \"0\" in names:\n",
    "        names.pop()\n",
    "        print(names)\n",
    "        break\n",
    "\n",
    "for i in range(len(names)):\n",
    "    names[i] = names[i].replace(\" \", \"\")\n",
    "    names[i] = names[i].capitalize()\n",
    "\n",
    "print(names)\n",
    "\n",
    "#Alternate for Capitalize()\n",
    "#    names[i] = names[i].lower()\n",
    "#    names[i][0] = names[i][0].upper()"
   ]
  },
  {
   "cell_type": "markdown",
   "id": "7fd64a93",
   "metadata": {},
   "source": [
    "<hr style=\"height: 2px;\">"
   ]
  },
  {
   "cell_type": "markdown",
   "id": "654b0aa4",
   "metadata": {},
   "source": [
    "## Task 2"
   ]
  },
  {
   "cell_type": "markdown",
   "id": "cfad70ff",
   "metadata": {},
   "source": [
    "### سیستم رزرو غذا\n",
    "#### سامانه ای که بتوان با نام کاربری و کلمه عبور را وارد کردن نوع غذای موجود را رزرو و در انتها لیستی از دانشجو ها و غذای درخواستی را نشان دهد"
   ]
  },
  {
   "cell_type": "markdown",
   "id": "b4a7bc00",
   "metadata": {},
   "source": [
    "نمونه ورودی"
   ]
  },
  {
   "cell_type": "code",
   "execution_count": null,
   "id": "e77882af",
   "metadata": {},
   "outputs": [],
   "source": [
    "user: 40126000\n",
    "pass: 2938\n",
    "Which one do you want to reserve? \n",
    "1.Pizza 2.Fish 3.Burger"
   ]
  },
  {
   "cell_type": "markdown",
   "id": "58384bd9",
   "metadata": {},
   "source": [
    "نمونه خروجی"
   ]
  },
  {
   "cell_type": "code",
   "execution_count": null,
   "id": "ade8d133",
   "metadata": {},
   "outputs": [],
   "source": [
    "40126000 have burger\n",
    "40026000 have pizza and ..."
   ]
  },
  {
   "cell_type": "markdown",
   "id": "016e2734",
   "metadata": {},
   "source": [
    "### Solution"
   ]
  },
  {
   "cell_type": "code",
   "execution_count": 4,
   "id": "9870bbcf",
   "metadata": {},
   "outputs": [
    {
     "name": "stdout",
     "output_type": "stream",
     "text": [
      "Enter username: 40012049\n",
      "Enter password: 3455\n",
      "{0: 'Not Reserved', 1: 'Pizza', 2: 'Fish', 3: 'Burger'}\n",
      "Enter your meal number: 2\n",
      "User 40126032 have Not Reserved\n",
      "User 40012049 have Fish\n",
      "User 9913012 have Not Reserved\n"
     ]
    }
   ],
   "source": [
    "db = {40126032 : {\"pass\" : 3213, \"meal\" : 0},\n",
    "      40012049 : {\"pass\" : 3455, \"meal\" : 0},\n",
    "      9913012  : {\"pass\" : 7532, \"meal\" : 0}}\n",
    "\n",
    "meals = {0: \"Not Reserved\",\n",
    "         1: \"Pizza\",\n",
    "         2: \"Fish\",\n",
    "         3: \"Burger\"}\n",
    "\n",
    "def show():\n",
    "    for i in (db):\n",
    "        print(f\"User {i} have {meals[int(db[i]['meal'])]}\")\n",
    "\n",
    "user = int(input(\"Enter username: \"))\n",
    "if user in db:\n",
    "    pwd = int(input(\"Enter password: \"))\n",
    "    if pwd == db[user][\"pass\"]:\n",
    "        print(meals)\n",
    "        db[user][\"meal\"] = int(input(\"Enter your meal number: \"))\n",
    "        show()\n",
    "    else:\n",
    "        print(\"Password is wrong\")\n",
    "else:\n",
    "    print(\"User not found\")"
   ]
  },
  {
   "cell_type": "markdown",
   "id": "0f9956fd",
   "metadata": {},
   "source": [
    "<hr style=\"height: 1px;\">"
   ]
  },
  {
   "cell_type": "markdown",
   "id": "dd1cb360",
   "metadata": {},
   "source": [
    "# Session 5"
   ]
  },
  {
   "cell_type": "markdown",
   "id": "5e76c7b9",
   "metadata": {},
   "source": [
    "## Task 1"
   ]
  },
  {
   "cell_type": "markdown",
   "id": "5bebc5b1",
   "metadata": {},
   "source": [
    "برنامه ای بنویسید که نام کاربری که شماره دانشجویی شما و رمز عبور یعنی 4 رقم آخر را در محیط گرافیکی دریافت کند و پس از کلیک روی دکمه بررسی، اگر چهار رقم آخر رمز شما بود عبارت رمز درست است را چاپ کند\n"
   ]
  },
  {
   "cell_type": "markdown",
   "id": "2b2fcf58",
   "metadata": {},
   "source": [
    "### Solution"
   ]
  },
  {
   "cell_type": "code",
   "execution_count": null,
   "id": "f8f9d666",
   "metadata": {},
   "outputs": [],
   "source": [
    "import tkinter as tk\n",
    "\n",
    "def check_password():\n",
    "    username = username_entry.get()\n",
    "    password = password_entry.get()\n",
    "    \n",
    "    if password == username[-4:]:\n",
    "        result_label.config(text=\"User found\")\n",
    "    else:\n",
    "        result_label.config(text=\"User not found\")\n",
    "\n",
    "window = tk.Tk()\n",
    "window.title(\"Login\")\n",
    "\n",
    "username_label = tk.Label(window, text=\"Username:\")\n",
    "username_label.pack()\n",
    "username_entry = tk.Entry(window)\n",
    "username_entry.pack()\n",
    "\n",
    "password_label = tk.Label(window, text=\"Password:\")\n",
    "password_label.pack()\n",
    "password_entry = tk.Entry(window, show=\"*\")\n",
    "password_entry.pack()\n",
    "\n",
    "check_button = tk.Button(window, text=\"Check Password\", command=check_password)\n",
    "check_button.pack()\n",
    "\n",
    "result_label = tk.Label(window, text=\"\")\n",
    "result_label.pack()\n",
    "\n",
    "window.mainloop()"
   ]
  },
  {
   "cell_type": "markdown",
   "id": "0c02b60a",
   "metadata": {},
   "source": [
    "<hr style=\"height: 1px;\">"
   ]
  },
  {
   "cell_type": "markdown",
   "id": "f382c98d",
   "metadata": {},
   "source": [
    "## Task 2"
   ]
  },
  {
   "cell_type": "markdown",
   "id": "21a504db",
   "metadata": {},
   "source": [
    "برنامه ای بنویسید که ارقام شماره دانشجویی شما مقادیر ایکس و معکوس شماره دانشجویی شما مقادیر ایگرگ نمودار چاپ شده در محیط گرافیکی باشد که خروجی نمودار و فیلد وارد کردن اطلاعات در صفحه باز شده توسط تیکینتر طراحی شده باشد."
   ]
  },
  {
   "cell_type": "markdown",
   "id": "ada31ad1",
   "metadata": {},
   "source": [
    "## Solution"
   ]
  },
  {
   "cell_type": "code",
   "execution_count": 20,
   "id": "b76462a6",
   "metadata": {},
   "outputs": [
    {
     "data": {
      "image/png": "[encoded data removed]",
      "text/plain": [
       "<Figure size 640x480 with 1 Axes>"
      ]
     },
     "metadata": {},
     "output_type": "display_data"
    }
   ],
   "source": [
    "import tkinter as tk\n",
    "from tkinter import messagebox\n",
    "import matplotlib.pyplot as plt\n",
    "\n",
    "root = tk.Tk()\n",
    "root.title(\"Number Plot\")\n",
    "\n",
    "tk.Label(root, text=\"Enter a number: \").pack()\n",
    "number_entry = tk.Entry(root)\n",
    "number_entry.pack()\n",
    "\n",
    "def plot_number():\n",
    "    number_str = number_entry.get()\n",
    "\n",
    "    digits = [int(d) for d in number_str]\n",
    "\n",
    "    reverse_digits = digits[::-1]\n",
    "\n",
    "    fig, ax = plt.subplots()\n",
    "    ax.plot(digits, reverse_digits)\n",
    "\n",
    "    plt.show()\n",
    "\n",
    "plot_button = tk.Button(root, text=\"Plot Number\", command=plot_number)\n",
    "plot_button.pack()\n",
    "\n",
    "root.mainloop()\n"
   ]
  }
 ],
 "metadata": {
  "kernelspec": {
   "display_name": "Python 3 (ipykernel)",
   "language": "python",
   "name": "python3"
  },
  "language_info": {
   "codemirror_mode": {
    "name": "ipython",
    "version": 3
   },
   "file_extension": ".py",
   "mimetype": "text/x-python",
   "name": "python",
   "nbconvert_exporter": "python",
   "pygments_lexer": "ipython3",
   "version": "3.9.13"
  }
 },
 "nbformat": 4,
 "nbformat_minor": 5
}
