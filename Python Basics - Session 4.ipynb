{
 "cells": [
  {
   "cell_type": "markdown",
   "id": "b0b346f4",
   "metadata": {},
   "source": [
    "<p align=\"center\"><img src = \"https://upload.wikimedia.org/wikipedia/commons/thumb/f/f8/Python_logo_and_wordmark.svg/2560px-Python_logo_and_wordmark.svg.png\" width=\"200\" height=\"auto\" style=\"display: block;margin-left: auto;margin-right: auto;margin-bottom:-30px\" /></p>\n",
    "<h1 align=\"center\" style=\"font-family:Calibri;color:#407daf;margin-left: 50px;text-align: center;\">Introduction to python</h1>\n",
    "<h2 align=\"center\" style=\"font-family:Calibri;color:#ffe262;margin-left: 50px;margin-top: 0px;text-align: center;\">Koorosh Komeilizadeh</h2>\n",
    "<p align=\"center\"><img src = \"https://kooroshkz.com/aut/python/contents/source/img/autlogos.png\" style=\"display: block;margin-left: auto;margin-right: auto;margin-top:15px\" width=\"200\" height=\"auto\"/></p>\n",
    "<h1 align=\"center\" style=\"margin-left:50px;\">Session 4</h1>"
   ]
  },
  {
   "cell_type": "code",
   "execution_count": 8,
   "id": "f5f348f4",
   "metadata": {},
   "outputs": [],
   "source": [
    "name = \"Python\""
   ]
  },
  {
   "cell_type": "code",
   "execution_count": 4,
   "id": "04c9cf7e",
   "metadata": {},
   "outputs": [
    {
     "data": {
      "text/plain": [
       "'o'"
      ]
     },
     "execution_count": 4,
     "metadata": {},
     "output_type": "execute_result"
    }
   ],
   "source": [
    "name[4]"
   ]
  },
  {
   "cell_type": "code",
   "execution_count": 9,
   "id": "1b62c562",
   "metadata": {},
   "outputs": [
    {
     "name": "stdout",
     "output_type": "stream",
     "text": [
      "P\n",
      "y\n",
      "t\n",
      "h\n",
      "o\n",
      "n\n"
     ]
    }
   ],
   "source": [
    "for i in range(int(len(name))):\n",
    "    print(name[i])"
   ]
  },
  {
   "cell_type": "markdown",
   "id": "efb1eb85",
   "metadata": {},
   "source": [
    "#### How to code len() function"
   ]
  },
  {
   "cell_type": "code",
   "execution_count": 10,
   "id": "04572ab8",
   "metadata": {},
   "outputs": [
    {
     "name": "stdout",
     "output_type": "stream",
     "text": [
      "P\n",
      "y\n",
      "t\n",
      "h\n",
      "o\n",
      "n\n"
     ]
    }
   ],
   "source": [
    "for i in name:\n",
    "    print(i)"
   ]
  },
  {
   "cell_type": "code",
   "execution_count": 11,
   "id": "12907791",
   "metadata": {},
   "outputs": [
    {
     "name": "stdout",
     "output_type": "stream",
     "text": [
      "6\n"
     ]
    }
   ],
   "source": [
    "counter = 0\n",
    "for i in name:\n",
    "    counter +=1\n",
    "\n",
    "print(counter)"
   ]
  },
  {
   "cell_type": "markdown",
   "id": "7a410474",
   "metadata": {},
   "source": [
    "### Slice"
   ]
  },
  {
   "cell_type": "code",
   "execution_count": 12,
   "id": "f47c223f",
   "metadata": {},
   "outputs": [],
   "source": [
    "str = \"Hello welcome to the class\""
   ]
  },
  {
   "cell_type": "code",
   "execution_count": 13,
   "id": "3993044e",
   "metadata": {},
   "outputs": [
    {
     "data": {
      "text/plain": [
       "'Hell'"
      ]
     },
     "execution_count": 13,
     "metadata": {},
     "output_type": "execute_result"
    }
   ],
   "source": [
    "str[:4]"
   ]
  },
  {
   "cell_type": "code",
   "execution_count": 14,
   "id": "1281b12f",
   "metadata": {},
   "outputs": [
    {
     "data": {
      "text/plain": [
       "'ll'"
      ]
     },
     "execution_count": 14,
     "metadata": {},
     "output_type": "execute_result"
    }
   ],
   "source": [
    "str[2:4]"
   ]
  },
  {
   "cell_type": "code",
   "execution_count": 15,
   "id": "fabf3662",
   "metadata": {},
   "outputs": [
    {
     "data": {
      "text/plain": [
       "'Hlowloet h ls'"
      ]
     },
     "execution_count": 15,
     "metadata": {},
     "output_type": "execute_result"
    }
   ],
   "source": [
    "str[:len(str):2]"
   ]
  },
  {
   "cell_type": "markdown",
   "id": "2a5e59d6",
   "metadata": {},
   "source": [
    "### Upper / Lower"
   ]
  },
  {
   "cell_type": "code",
   "execution_count": 16,
   "id": "6b302ac9",
   "metadata": {},
   "outputs": [
    {
     "data": {
      "text/plain": [
       "'Hello welcome to the class'"
      ]
     },
     "execution_count": 16,
     "metadata": {},
     "output_type": "execute_result"
    }
   ],
   "source": [
    "str"
   ]
  },
  {
   "cell_type": "code",
   "execution_count": 17,
   "id": "14c97a87",
   "metadata": {},
   "outputs": [
    {
     "data": {
      "text/plain": [
       "'HELLO WELCOME TO THE CLASS'"
      ]
     },
     "execution_count": 17,
     "metadata": {},
     "output_type": "execute_result"
    }
   ],
   "source": [
    "str.upper()"
   ]
  },
  {
   "cell_type": "code",
   "execution_count": 18,
   "id": "29dee002",
   "metadata": {},
   "outputs": [
    {
     "data": {
      "text/plain": [
       "'hello welcome to the class'"
      ]
     },
     "execution_count": 18,
     "metadata": {},
     "output_type": "execute_result"
    }
   ],
   "source": [
    "str.lower()"
   ]
  },
  {
   "cell_type": "markdown",
   "id": "681e92cc",
   "metadata": {},
   "source": [
    "### Strip"
   ]
  },
  {
   "cell_type": "code",
   "execution_count": 19,
   "id": "c3c35ffa",
   "metadata": {},
   "outputs": [
    {
     "name": "stdout",
     "output_type": "stream",
     "text": [
      ".    Username\n"
     ]
    }
   ],
   "source": [
    "user = \"   Username\"\n",
    "print(\".\",user)"
   ]
  },
  {
   "cell_type": "code",
   "execution_count": 20,
   "id": "17ed7cc5",
   "metadata": {},
   "outputs": [
    {
     "data": {
      "text/plain": [
       "'Username'"
      ]
     },
     "execution_count": 20,
     "metadata": {},
     "output_type": "execute_result"
    }
   ],
   "source": [
    "user.strip()"
   ]
  },
  {
   "cell_type": "code",
   "execution_count": 21,
   "id": "4e0b8ff2",
   "metadata": {},
   "outputs": [
    {
     "name": "stdout",
     "output_type": "stream",
     "text": [
      ". Username\n"
     ]
    }
   ],
   "source": [
    "print(\".\",user.strip())"
   ]
  },
  {
   "cell_type": "markdown",
   "id": "8ca8b3d1",
   "metadata": {},
   "source": [
    "### Find"
   ]
  },
  {
   "cell_type": "code",
   "execution_count": 22,
   "id": "70d630f0",
   "metadata": {},
   "outputs": [],
   "source": [
    "text = \"Amirkabir University of Technology (AUT), also called the Tehran Polytechnic, is a public technological university located in Tehran, Iran. Founded in 1928, AUT is the second oldest technical university established in Iran. It is referred to as the 'Mother of Engineering Universities'.[4] Acceptance to the university is competitive, entrance to undergraduate and graduate programs requiring scoring among the top 1% of students in the Iranian University Entrance Exam, known as 'Konkour'.\""
   ]
  },
  {
   "cell_type": "code",
   "execution_count": 23,
   "id": "184f20d6",
   "metadata": {},
   "outputs": [
    {
     "data": {
      "text/plain": [
       "\"Amirkabir University of Technology (AUT), also called the Tehran Polytechnic, is a public technological university located in Tehran, Iran. Founded in 1928, AUT is the second oldest technical university established in Iran. It is referred to as the 'Mother of Engineering Universities'.[4] Acceptance to the university is competitive, entrance to undergraduate and graduate programs requiring scoring among the top 1% of students in the Iranian University Entrance Exam, known as 'Konkour'.\""
      ]
     },
     "execution_count": 23,
     "metadata": {},
     "output_type": "execute_result"
    }
   ],
   "source": [
    "text"
   ]
  },
  {
   "cell_type": "code",
   "execution_count": 28,
   "id": "4d59c97c",
   "metadata": {},
   "outputs": [
    {
     "data": {
      "text/plain": [
       "36"
      ]
     },
     "execution_count": 28,
     "metadata": {},
     "output_type": "execute_result"
    }
   ],
   "source": [
    "text.find(\"A\",1)"
   ]
  },
  {
   "cell_type": "code",
   "execution_count": 29,
   "id": "16fb4237",
   "metadata": {},
   "outputs": [
    {
     "name": "stdout",
     "output_type": "stream",
     "text": [
      "AUT\n"
     ]
    }
   ],
   "source": [
    "print(text[36:39])"
   ]
  },
  {
   "cell_type": "markdown",
   "id": "38e4482a",
   "metadata": {},
   "source": [
    "## Built-in data types in Python"
   ]
  },
  {
   "cell_type": "markdown",
   "id": "0a4757ca",
   "metadata": {},
   "source": [
    "We have 4 type of data types for storing a collection of datas."
   ]
  },
  {
   "cell_type": "markdown",
   "id": "d66df5f4",
   "metadata": {},
   "source": [
    "## List"
   ]
  },
  {
   "cell_type": "code",
   "execution_count": 30,
   "id": "eb8bb92d",
   "metadata": {},
   "outputs": [],
   "source": [
    "list = [1322,1034,1823,9928]"
   ]
  },
  {
   "cell_type": "code",
   "execution_count": 31,
   "id": "908e16c5",
   "metadata": {},
   "outputs": [],
   "source": [
    "ls = [\"hi\", 123 , True , 5.4]"
   ]
  },
  {
   "cell_type": "code",
   "execution_count": 32,
   "id": "f5694ffc",
   "metadata": {},
   "outputs": [
    {
     "data": {
      "text/plain": [
       "1322"
      ]
     },
     "execution_count": 32,
     "metadata": {},
     "output_type": "execute_result"
    }
   ],
   "source": [
    "list[0]"
   ]
  },
  {
   "cell_type": "code",
   "execution_count": 33,
   "id": "709b3334",
   "metadata": {},
   "outputs": [
    {
     "data": {
      "text/plain": [
       "[1322, 1034, 1823]"
      ]
     },
     "execution_count": 33,
     "metadata": {},
     "output_type": "execute_result"
    }
   ],
   "source": [
    "list[:3]"
   ]
  },
  {
   "cell_type": "code",
   "execution_count": 34,
   "id": "aa246b55",
   "metadata": {},
   "outputs": [
    {
     "data": {
      "text/plain": [
       "['hi', 123, True, 5.4]"
      ]
     },
     "execution_count": 34,
     "metadata": {},
     "output_type": "execute_result"
    }
   ],
   "source": [
    "ls"
   ]
  },
  {
   "cell_type": "code",
   "execution_count": 35,
   "id": "f296efdc",
   "metadata": {},
   "outputs": [],
   "source": [
    "ls[0] = \"Hello\""
   ]
  },
  {
   "cell_type": "code",
   "execution_count": 36,
   "id": "8daceb83",
   "metadata": {},
   "outputs": [
    {
     "data": {
      "text/plain": [
       "['Hello', 123, True, 5.4]"
      ]
     },
     "execution_count": 36,
     "metadata": {},
     "output_type": "execute_result"
    }
   ],
   "source": [
    "ls"
   ]
  },
  {
   "cell_type": "markdown",
   "id": "3ea8c121",
   "metadata": {},
   "source": [
    "#### Add to list"
   ]
  },
  {
   "cell_type": "code",
   "execution_count": 37,
   "id": "4f0a1405",
   "metadata": {},
   "outputs": [],
   "source": [
    "ls.append(\"3.14\")"
   ]
  },
  {
   "cell_type": "code",
   "execution_count": 38,
   "id": "60f0378c",
   "metadata": {},
   "outputs": [
    {
     "data": {
      "text/plain": [
       "['Hello', 123, True, 5.4, '3.14']"
      ]
     },
     "execution_count": 38,
     "metadata": {},
     "output_type": "execute_result"
    }
   ],
   "source": [
    "ls"
   ]
  },
  {
   "cell_type": "code",
   "execution_count": 39,
   "id": "ca49e0b0",
   "metadata": {},
   "outputs": [],
   "source": [
    "ls.insert(1, \"2.71\")"
   ]
  },
  {
   "cell_type": "code",
   "execution_count": 40,
   "id": "840b1a85",
   "metadata": {},
   "outputs": [
    {
     "data": {
      "text/plain": [
       "['Hello', '2.71', 123, True, 5.4, '3.14']"
      ]
     },
     "execution_count": 40,
     "metadata": {},
     "output_type": "execute_result"
    }
   ],
   "source": [
    "ls"
   ]
  },
  {
   "cell_type": "markdown",
   "id": "0f7e2aec",
   "metadata": {},
   "source": [
    "#### Remove from list"
   ]
  },
  {
   "cell_type": "code",
   "execution_count": 41,
   "id": "54b0fa31",
   "metadata": {},
   "outputs": [
    {
     "data": {
      "text/plain": [
       "'3.14'"
      ]
     },
     "execution_count": 41,
     "metadata": {},
     "output_type": "execute_result"
    }
   ],
   "source": [
    "ls.pop()"
   ]
  },
  {
   "cell_type": "code",
   "execution_count": 42,
   "id": "29c9b0d9",
   "metadata": {},
   "outputs": [
    {
     "data": {
      "text/plain": [
       "['Hello', '2.71', 123, True, 5.4]"
      ]
     },
     "execution_count": 42,
     "metadata": {},
     "output_type": "execute_result"
    }
   ],
   "source": [
    "ls"
   ]
  },
  {
   "cell_type": "code",
   "execution_count": 43,
   "id": "afe65685",
   "metadata": {},
   "outputs": [
    {
     "data": {
      "text/plain": [
       "'Hello'"
      ]
     },
     "execution_count": 43,
     "metadata": {},
     "output_type": "execute_result"
    }
   ],
   "source": [
    "ls.remove(\"2.71\")\n",
    "ls.pop(0)"
   ]
  },
  {
   "cell_type": "code",
   "execution_count": 44,
   "id": "9a3e4886",
   "metadata": {},
   "outputs": [
    {
     "data": {
      "text/plain": [
       "[123, True, 5.4]"
      ]
     },
     "execution_count": 44,
     "metadata": {},
     "output_type": "execute_result"
    }
   ],
   "source": [
    "ls"
   ]
  },
  {
   "cell_type": "markdown",
   "id": "1093bd17",
   "metadata": {},
   "source": [
    "#### You can search for:"
   ]
  },
  {
   "cell_type": "markdown",
   "id": "35b647ab",
   "metadata": {},
   "source": [
    "join list , sort list, search in list and ..."
   ]
  },
  {
   "cell_type": "markdown",
   "id": "569ba57e",
   "metadata": {},
   "source": [
    "## Tuple\n",
    "A tuple is a collection which is ordered and unchangeable."
   ]
  },
  {
   "cell_type": "code",
   "execution_count": 45,
   "id": "c8ad5fdc",
   "metadata": {},
   "outputs": [],
   "source": [
    "thistuple = (\"apple\", \"banana\", \"cherry\", \"apple\", \"cherry\")"
   ]
  },
  {
   "cell_type": "code",
   "execution_count": 46,
   "id": "fc348b9b",
   "metadata": {},
   "outputs": [
    {
     "name": "stdout",
     "output_type": "stream",
     "text": [
      "banana\n"
     ]
    }
   ],
   "source": [
    "print(thistuple[1])"
   ]
  },
  {
   "cell_type": "code",
   "execution_count": 47,
   "id": "7f22ab2d",
   "metadata": {},
   "outputs": [
    {
     "name": "stdout",
     "output_type": "stream",
     "text": [
      "('cherry', 'apple', 'cherry')\n"
     ]
    }
   ],
   "source": [
    "print(thistuple[2:5])"
   ]
  },
  {
   "cell_type": "markdown",
   "id": "964b518d",
   "metadata": {},
   "source": [
    "### Update Tuple"
   ]
  },
  {
   "cell_type": "code",
   "execution_count": null,
   "id": "4b51a1ce",
   "metadata": {},
   "outputs": [],
   "source": [
    "thistuple = (\"apple\", \"banana\", \"cherry\")\n",
    "y = list(thistuple)\n",
    "y.append(\"orange\")\n",
    "thistuple = tuple(y)\n",
    "\n",
    "print(thistuple)"
   ]
  },
  {
   "cell_type": "markdown",
   "id": "f626988b",
   "metadata": {},
   "source": [
    "## Set"
   ]
  },
  {
   "cell_type": "markdown",
   "id": "f6fafe55",
   "metadata": {},
   "source": [
    "A set is a collection which is ordered, unchangeable*, and unindexed."
   ]
  },
  {
   "cell_type": "code",
   "execution_count": 51,
   "id": "9616203f",
   "metadata": {},
   "outputs": [
    {
     "data": {
      "text/plain": [
       "{2, 3, 4, 7}"
      ]
     },
     "execution_count": 51,
     "metadata": {},
     "output_type": "execute_result"
    }
   ],
   "source": [
    "s = {2,4,7,3,7}\n",
    "s"
   ]
  },
  {
   "cell_type": "markdown",
   "id": "f38df47c",
   "metadata": {},
   "source": [
    "Set is not indexed so we can use for loop to see the content"
   ]
  },
  {
   "cell_type": "code",
   "execution_count": 52,
   "id": "5ea32b39",
   "metadata": {},
   "outputs": [
    {
     "name": "stdout",
     "output_type": "stream",
     "text": [
      "True\n",
      "2\n",
      "3\n",
      "4\n",
      "7\n",
      "abc\n",
      "a\n"
     ]
    }
   ],
   "source": [
    "s = {2,4,7,3,7,\"a\",\"abc\", True}\n",
    "\n",
    "for x in s:\n",
    "  print(x)"
   ]
  },
  {
   "cell_type": "markdown",
   "id": "be117ce4",
   "metadata": {},
   "source": [
    "### Add to set"
   ]
  },
  {
   "cell_type": "code",
   "execution_count": 53,
   "id": "39bfe91f",
   "metadata": {},
   "outputs": [
    {
     "name": "stdout",
     "output_type": "stream",
     "text": [
      "{'banana', 'orange', 'cherry', 'apple'}\n"
     ]
    }
   ],
   "source": [
    "thisset = {\"apple\", \"banana\", \"cherry\"}\n",
    "\n",
    "thisset.add(\"orange\")\n",
    "\n",
    "print(thisset)"
   ]
  },
  {
   "cell_type": "markdown",
   "id": "8a4f04ff",
   "metadata": {},
   "source": [
    "### Merge Sets"
   ]
  },
  {
   "cell_type": "code",
   "execution_count": 54,
   "id": "52270067",
   "metadata": {},
   "outputs": [
    {
     "name": "stdout",
     "output_type": "stream",
     "text": [
      "{'apple', 'mango', 'banana', 'pineapple', 'cherry', 'papaya'}\n"
     ]
    }
   ],
   "source": [
    "thisset = {\"apple\", \"banana\", \"cherry\"}\n",
    "tropical = {\"pineapple\", \"mango\", \"papaya\"}\n",
    "\n",
    "thisset.update(tropical)\n",
    "\n",
    "print(thisset)"
   ]
  },
  {
   "cell_type": "markdown",
   "id": "e7c5d9ce",
   "metadata": {},
   "source": [
    "## Dictionary"
   ]
  },
  {
   "cell_type": "code",
   "execution_count": 55,
   "id": "e8cf97d4",
   "metadata": {},
   "outputs": [],
   "source": [
    "dic = {40029043: 1938,\n",
    "       40126094: 8374,\n",
    "       9933029: 1380,\n",
    "       97133010: 3010}"
   ]
  },
  {
   "cell_type": "code",
   "execution_count": 56,
   "id": "94d748da",
   "metadata": {},
   "outputs": [
    {
     "name": "stdout",
     "output_type": "stream",
     "text": [
      "{40029043: 1938, 40126094: 8374, 9933029: 1380, 97133010: 3010}\n"
     ]
    }
   ],
   "source": [
    "print(dic)"
   ]
  },
  {
   "cell_type": "code",
   "execution_count": 59,
   "id": "fedbcb6f",
   "metadata": {},
   "outputs": [
    {
     "name": "stdout",
     "output_type": "stream",
     "text": [
      "1938\n"
     ]
    }
   ],
   "source": [
    "print(dic[40029043])"
   ]
  },
  {
   "cell_type": "code",
   "execution_count": 60,
   "id": "2e4f530f",
   "metadata": {},
   "outputs": [
    {
     "data": {
      "text/plain": [
       "dict_keys([40029043, 40126094, 9933029, 97133010])"
      ]
     },
     "execution_count": 60,
     "metadata": {},
     "output_type": "execute_result"
    }
   ],
   "source": [
    "dic.keys()"
   ]
  },
  {
   "cell_type": "code",
   "execution_count": 61,
   "id": "70339df6",
   "metadata": {},
   "outputs": [
    {
     "data": {
      "text/plain": [
       "dict_values([1938, 8374, 1380, 3010])"
      ]
     },
     "execution_count": 61,
     "metadata": {},
     "output_type": "execute_result"
    }
   ],
   "source": [
    "dic.values()"
   ]
  },
  {
   "cell_type": "code",
   "execution_count": 63,
   "id": "e93a0d7a",
   "metadata": {},
   "outputs": [
    {
     "data": {
      "text/plain": [
       "{40029043: 1938, 40126094: 8374, 9933029: 1380, 97133010: 3010}"
      ]
     },
     "execution_count": 63,
     "metadata": {},
     "output_type": "execute_result"
    }
   ],
   "source": [
    "dic"
   ]
  },
  {
   "cell_type": "markdown",
   "id": "b892834e",
   "metadata": {},
   "source": [
    "### Another form o define a dictionary"
   ]
  },
  {
   "cell_type": "code",
   "execution_count": 64,
   "id": "0f64686e",
   "metadata": {},
   "outputs": [
    {
     "name": "stdout",
     "output_type": "stream",
     "text": [
      "{'name': 'John', 'age': 36, 'country': 'Norway'}\n"
     ]
    }
   ],
   "source": [
    "thisdict = dict(name = \"John\", age = 36, country = \"Norway\")\n",
    "print(thisdict)"
   ]
  },
  {
   "cell_type": "markdown",
   "id": "d3816c6b",
   "metadata": {},
   "source": [
    "### Change / Add items"
   ]
  },
  {
   "cell_type": "code",
   "execution_count": 65,
   "id": "4d7224f1",
   "metadata": {},
   "outputs": [],
   "source": [
    "dic = {40029043: 1938,\n",
    "       40126094: 8374,\n",
    "       9933029: 1380,\n",
    "       97133010: 3010}"
   ]
  },
  {
   "cell_type": "code",
   "execution_count": 66,
   "id": "3a572e38",
   "metadata": {},
   "outputs": [],
   "source": [
    "dic[40126094] = 4738"
   ]
  },
  {
   "cell_type": "code",
   "execution_count": 67,
   "id": "a8b67df0",
   "metadata": {},
   "outputs": [
    {
     "data": {
      "text/plain": [
       "{40029043: 1938, 40126094: 4738, 9933029: 1380, 97133010: 3010}"
      ]
     },
     "execution_count": 67,
     "metadata": {},
     "output_type": "execute_result"
    }
   ],
   "source": [
    "dic"
   ]
  },
  {
   "cell_type": "code",
   "execution_count": 70,
   "id": "db2f093b",
   "metadata": {},
   "outputs": [],
   "source": [
    "dic[40126094] = 1234"
   ]
  },
  {
   "cell_type": "code",
   "execution_count": 71,
   "id": "40fb4b8c",
   "metadata": {},
   "outputs": [
    {
     "data": {
      "text/plain": [
       "{40029043: 1938, 40126094: 1234, 9933029: 1380, 97133010: 3010, 40126039: 1234}"
      ]
     },
     "execution_count": 71,
     "metadata": {},
     "output_type": "execute_result"
    }
   ],
   "source": [
    "dic"
   ]
  },
  {
   "cell_type": "code",
   "execution_count": 72,
   "id": "24a6fbe9",
   "metadata": {},
   "outputs": [
    {
     "name": "stdout",
     "output_type": "stream",
     "text": [
      "{9933029: 1380,\n",
      " 40029043: 1938,\n",
      " 40126039: 1234,\n",
      " 40126094: 1234,\n",
      " 97133010: 3010}\n"
     ]
    }
   ],
   "source": [
    "import pprint\n",
    "\n",
    "#pprint.pprint(dic) #doesnt work in jupyter\n",
    "\n",
    "pprint.PrettyPrinter(width=20).pprint(dic)"
   ]
  },
  {
   "cell_type": "code",
   "execution_count": 73,
   "id": "357dc72e",
   "metadata": {},
   "outputs": [
    {
     "name": "stdout",
     "output_type": "stream",
     "text": [
      "{9933029: 1380,\n",
      " 40029043: 1938,\n",
      " 40126039: 1234,\n",
      " 40126094: 1234}\n"
     ]
    }
   ],
   "source": [
    "dic.pop(97133010)\n",
    "\n",
    "pprint.PrettyPrinter(width=20).pprint(dic)"
   ]
  },
  {
   "cell_type": "markdown",
   "id": "1af87550",
   "metadata": {},
   "source": [
    "## Nested Dictionary"
   ]
  },
  {
   "cell_type": "code",
   "execution_count": 74,
   "id": "4eb1f70f",
   "metadata": {},
   "outputs": [],
   "source": [
    "myfamily = {\n",
    "  \"child1\" : {\n",
    "    \"name\" : \"Emil\",\n",
    "    \"year\" : 2004\n",
    "  },\n",
    "  \"child2\" : {\n",
    "    \"name\" : \"Tobias\",\n",
    "    \"year\" : 2007\n",
    "  },\n",
    "  \"child3\" : {\n",
    "    \"name\" : \"Linus\",\n",
    "    \"year\" : 2011\n",
    "  }\n",
    "}"
   ]
  },
  {
   "cell_type": "code",
   "execution_count": 75,
   "id": "0eda54be",
   "metadata": {},
   "outputs": [
    {
     "data": {
      "text/plain": [
       "{'child1': {'name': 'Emil', 'year': 2004},\n",
       " 'child2': {'name': 'Tobias', 'year': 2007},\n",
       " 'child3': {'name': 'Linus', 'year': 2011}}"
      ]
     },
     "execution_count": 75,
     "metadata": {},
     "output_type": "execute_result"
    }
   ],
   "source": [
    "myfamily"
   ]
  },
  {
   "cell_type": "code",
   "execution_count": 76,
   "id": "242fadaf",
   "metadata": {},
   "outputs": [
    {
     "name": "stdout",
     "output_type": "stream",
     "text": [
      "{'child1': {'name': 'Emil',\n",
      "            'year': 2004},\n",
      " 'child2': {'name': 'Tobias',\n",
      "            'year': 2007},\n",
      " 'child3': {'name': 'Linus',\n",
      "            'year': 2011}}\n"
     ]
    }
   ],
   "source": [
    "pprint.PrettyPrinter(width=20).pprint(myfamily)"
   ]
  },
  {
   "cell_type": "markdown",
   "id": "e7c59b0b",
   "metadata": {},
   "source": [
    "<table>\n",
    "<tr>\n",
    "<th>Method</th>\n",
    "<th>Description</th>\n",
    "</tr>\n",
    "<tr><td><a >clear()</a></td><td>Removes all the elements from the dictionary</td></tr>\n",
    "<tr><td><a >copy()</a></td><td>Returns a copy of the dictionary</td></tr>\n",
    "<tr><td><a >fromkeys()</a></td><td>Returns a dictionary with the specified keys and value</td></tr>\n",
    "<tr><td><a >get()</a></td><td>Returns the value of the specified key</td></tr>\n",
    "<tr><td><a >items()</a></td><td>Returns a list containing a tuple for each key value pair</td></tr>\n",
    "<tr><td><a >keys()</a></td><td>Returns a list containing the dictionary's keys</td></tr>\n",
    "<tr><td><a >pop()</a></td><td>Removes the element with the specified key</td></tr>\n",
    "<tr><td><a >popitem()</a></td><td>Removes the last \n",
    "  inserted key-value pair</td></tr>\n",
    "<tr><td><a >setdefault()</a></td><td>Returns the value of the specified key. If the key does not exist: insert the key, with the specified value</td></tr>\n",
    "<tr><td><a >update()</a></td><td>Updates the dictionary with the specified key-value pairs</td></tr>\n",
    "<tr><td><a >values()</a></td><td>Returns a list of all the values in the dictionary</td></tr>\n",
    "</table>\n",
    "<hr>\n",
    "</div>"
   ]
  },
  {
   "cell_type": "markdown",
   "id": "28925395",
   "metadata": {},
   "source": [
    "## Functions too add/remove/change item from dic"
   ]
  },
  {
   "cell_type": "markdown",
   "id": "90d387cd",
   "metadata": {},
   "source": [
    "Part of Problem Sets but can be done in the class in case of haveing enough time"
   ]
  },
  {
   "cell_type": "code",
   "execution_count": 77,
   "id": "7d5083d3",
   "metadata": {},
   "outputs": [],
   "source": [
    "db = {}"
   ]
  },
  {
   "cell_type": "code",
   "execution_count": 79,
   "id": "0eaf75d7",
   "metadata": {},
   "outputs": [],
   "source": [
    "def add_member(user,password):\n",
    "    db[user] = password\n",
    "    return db"
   ]
  },
  {
   "cell_type": "code",
   "execution_count": 80,
   "id": "bade209d",
   "metadata": {},
   "outputs": [
    {
     "data": {
      "text/plain": [
       "{40027022: 1234}"
      ]
     },
     "execution_count": 80,
     "metadata": {},
     "output_type": "execute_result"
    }
   ],
   "source": [
    "add_member(40027022,1234)"
   ]
  },
  {
   "cell_type": "code",
   "execution_count": 81,
   "id": "1cbbf1f1",
   "metadata": {},
   "outputs": [
    {
     "data": {
      "text/plain": [
       "{40027022: 1234}"
      ]
     },
     "execution_count": 81,
     "metadata": {},
     "output_type": "execute_result"
    }
   ],
   "source": [
    "db"
   ]
  },
  {
   "cell_type": "code",
   "execution_count": 82,
   "id": "27cff1c0",
   "metadata": {},
   "outputs": [
    {
     "name": "stdout",
     "output_type": "stream",
     "text": [
      "Enter username40027051\n",
      "Enter your Password3241\n"
     ]
    },
    {
     "data": {
      "text/plain": [
       "{40027022: 1234, '40027051': '3241'}"
      ]
     },
     "execution_count": 82,
     "metadata": {},
     "output_type": "execute_result"
    }
   ],
   "source": [
    "add_member(input(\"Enter username\"),input(\"Enter your Password\"))"
   ]
  },
  {
   "cell_type": "code",
   "execution_count": 83,
   "id": "6ebc940f",
   "metadata": {},
   "outputs": [
    {
     "data": {
      "text/plain": [
       "{40027022: 1234, '40027051': '3241'}"
      ]
     },
     "execution_count": 83,
     "metadata": {},
     "output_type": "execute_result"
    }
   ],
   "source": [
    "db"
   ]
  },
  {
   "cell_type": "code",
   "execution_count": 84,
   "id": "a47590cb",
   "metadata": {},
   "outputs": [],
   "source": [
    "def edit_pass(user,password):\n",
    "    db[user] = password\n",
    "    return db"
   ]
  },
  {
   "cell_type": "code",
   "execution_count": 85,
   "id": "3c660490",
   "metadata": {},
   "outputs": [
    {
     "name": "stdout",
     "output_type": "stream",
     "text": [
      "Enter username40027051\n",
      "Enter your Password4321\n"
     ]
    },
    {
     "data": {
      "text/plain": [
       "{40027022: 1234, '40027051': '4321'}"
      ]
     },
     "execution_count": 85,
     "metadata": {},
     "output_type": "execute_result"
    }
   ],
   "source": [
    "edit_pass(input(\"Enter username\"),input(\"Enter your Password\"))"
   ]
  },
  {
   "cell_type": "code",
   "execution_count": 95,
   "id": "ac45b3f8",
   "metadata": {},
   "outputs": [
    {
     "data": {
      "text/plain": [
       "{40027022: 1234, '40027051': '4321'}"
      ]
     },
     "execution_count": 95,
     "metadata": {},
     "output_type": "execute_result"
    }
   ],
   "source": [
    "db"
   ]
  },
  {
   "cell_type": "code",
   "execution_count": 98,
   "id": "1a5f6271",
   "metadata": {},
   "outputs": [],
   "source": [
    "db = {40027022: 1234, 40027051: 4321}"
   ]
  },
  {
   "cell_type": "code",
   "execution_count": 101,
   "id": "ff26b63c",
   "metadata": {},
   "outputs": [],
   "source": [
    "def rm_user(u,p):\n",
    "    if p == db[u]:\n",
    "        db.pop(u)\n",
    "        return db\n",
    "    else:\n",
    "        print(\"Password is wrong\")"
   ]
  },
  {
   "cell_type": "code",
   "execution_count": 103,
   "id": "a47915f6",
   "metadata": {},
   "outputs": [
    {
     "data": {
      "text/plain": [
       "{40027022: 1234}"
      ]
     },
     "execution_count": 103,
     "metadata": {},
     "output_type": "execute_result"
    }
   ],
   "source": [
    "rm_user(40027051,4321)"
   ]
  },
  {
   "cell_type": "code",
   "execution_count": 104,
   "id": "884b4c5f",
   "metadata": {},
   "outputs": [
    {
     "data": {
      "text/plain": [
       "{40027022: 1234}"
      ]
     },
     "execution_count": 104,
     "metadata": {},
     "output_type": "execute_result"
    }
   ],
   "source": [
    "db"
   ]
  }
 ],
 "metadata": {
  "kernelspec": {
   "display_name": "Python 3 (ipykernel)",
   "language": "python",
   "name": "python3"
  },
  "language_info": {
   "codemirror_mode": {
    "name": "ipython",
    "version": 3
   },
   "file_extension": ".py",
   "mimetype": "text/x-python",
   "name": "python",
   "nbconvert_exporter": "python",
   "pygments_lexer": "ipython3",
   "version": "3.9.13"
  },
  "vscode": {
   "interpreter": {
    "hash": "5a9a88a2c5b02ee7ff381c78ebfd1e5fdda0d3e731376f9b886f7f81c83cc469"
   }
  }
 },
 "nbformat": 4,
 "nbformat_minor": 5
}
