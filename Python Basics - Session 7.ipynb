{
 "cells": [
  {
   "cell_type": "markdown",
   "id": "b0b346f4",
   "metadata": {},
   "source": [
    "<p align=\"center\"><img src = \"https://upload.wikimedia.org/wikipedia/commons/thumb/f/f8/Python_logo_and_wordmark.svg/2560px-Python_logo_and_wordmark.svg.png\" width=\"200\" height=\"auto\" style=\"display: block;margin-left: auto;margin-right: auto;margin-bottom:-30px\" /></p>\n",
    "<h1 align=\"center\" style=\"font-family:Calibri;color:#407daf;margin-left: 50px;text-align: center;\">Introduction to python</h1>\n",
    "<h2 align=\"center\" style=\"font-family:Calibri;color:#ffe262;margin-left: 50px;margin-top: 0px;text-align: center;\">Koorosh Komeilizadeh</h2>\n",
    "<p align=\"center\"><img src = \"https://www.irangi.org/uploads/images/4_1560089256_1291127534.png\" style=\"  -webkit-filter: drop-shadow(1px 1px 0 white)\n",
    "                  drop-shadow(-1px -1px 0 white);\n",
    "  filter: drop-shadow(1px 1px 0 white) \n",
    "          drop-shadow(-1px -1px 0 white);display: block;margin-left: auto;margin-right: auto;margin-top:15px\" width=\"250\" height=\"auto\"/></p>\n",
    "<h1 align=\"center\" style=\"margin-left:50px;\">Session 7</h1>"
   ]
  },
  {
   "cell_type": "markdown",
   "id": "92e4cee0",
   "metadata": {},
   "source": [
    "## File Handling"
   ]
  },
  {
   "cell_type": "markdown",
   "id": "3e9176c9",
   "metadata": {},
   "source": [
    "File handling is an important part of any web application.\n",
    "\n",
    "The key function for working with files in Python is the open() function.\n",
    "\n",
    "The open() function takes two parameters; filename, and mode.\n",
    "\n",
    "There are four + 1 different methods (modes) for opening a file:"
   ]
  },
  {
   "cell_type": "markdown",
   "id": "f88c886c",
   "metadata": {},
   "source": [
    "> \"r\" - Read - Default value. Opens a file for reading, error if the file does not exist\n",
    "\n",
    "> \"a\" - Append - Opens a file for appending, creates the file if it does not exist\n",
    "\n",
    "> \"w\" - Write - Opens a file for writing, creates the file if it does not exist\n",
    "\n",
    "> \"x\" - Create - Creates the specified file, returns an error if the file exists\n",
    "\n",
    "> \"a+\" - read and write"
   ]
  },
  {
   "cell_type": "code",
   "execution_count": 1,
   "id": "dd61d20b",
   "metadata": {},
   "outputs": [],
   "source": [
    "f = open('files/note.txt')"
   ]
  },
  {
   "cell_type": "code",
   "execution_count": 2,
   "id": "baf88f29",
   "metadata": {},
   "outputs": [
    {
     "data": {
      "text/plain": [
       "<_io.TextIOWrapper name='files/note.txt' mode='r' encoding='cp1252'>"
      ]
     },
     "execution_count": 2,
     "metadata": {},
     "output_type": "execute_result"
    }
   ],
   "source": [
    "f"
   ]
  },
  {
   "cell_type": "code",
   "execution_count": 8,
   "id": "c375114c",
   "metadata": {},
   "outputs": [
    {
     "data": {
      "text/plain": [
       "'3\\n4\\n2\\n6\\n4\\n3'"
      ]
     },
     "execution_count": 8,
     "metadata": {},
     "output_type": "execute_result"
    }
   ],
   "source": [
    "f.read()"
   ]
  },
  {
   "cell_type": "code",
   "execution_count": 9,
   "id": "3737948a",
   "metadata": {},
   "outputs": [
    {
     "data": {
      "text/plain": [
       "''"
      ]
     },
     "execution_count": 9,
     "metadata": {},
     "output_type": "execute_result"
    }
   ],
   "source": [
    "f.read()"
   ]
  },
  {
   "cell_type": "markdown",
   "id": "8aebadfe",
   "metadata": {},
   "source": [
    "#### Recall"
   ]
  },
  {
   "cell_type": "code",
   "execution_count": 20,
   "id": "02372c7b",
   "metadata": {},
   "outputs": [],
   "source": [
    "f = open('files/note.txt' , 'r')"
   ]
  },
  {
   "cell_type": "code",
   "execution_count": 14,
   "id": "d1d72bce",
   "metadata": {},
   "outputs": [
    {
     "data": {
      "text/plain": [
       "<_io.TextIOWrapper name='files/note.txt' mode='r' encoding='cp1252'>"
      ]
     },
     "execution_count": 14,
     "metadata": {},
     "output_type": "execute_result"
    }
   ],
   "source": [
    "f"
   ]
  },
  {
   "cell_type": "markdown",
   "id": "e0d12149",
   "metadata": {},
   "source": [
    "By default the read() method returns the whole text, but you can also specify how many characters you want to return:"
   ]
  },
  {
   "cell_type": "code",
   "execution_count": 21,
   "id": "a572b3f9",
   "metadata": {},
   "outputs": [
    {
     "data": {
      "text/plain": [
       "'3\\n4\\n2\\n6\\n'"
      ]
     },
     "execution_count": 21,
     "metadata": {},
     "output_type": "execute_result"
    }
   ],
   "source": [
    "f.read(8)"
   ]
  },
  {
   "cell_type": "markdown",
   "id": "3ed07f6d",
   "metadata": {},
   "source": [
    "Read Line by Line"
   ]
  },
  {
   "cell_type": "code",
   "execution_count": 22,
   "id": "7291a4a8",
   "metadata": {},
   "outputs": [
    {
     "name": "stdout",
     "output_type": "stream",
     "text": [
      "3\n",
      "\n",
      "4\n",
      "\n",
      "2\n",
      "\n",
      "6\n",
      "\n",
      "4\n",
      "\n",
      "3\n"
     ]
    }
   ],
   "source": [
    "f = open('files/note.txt' , 'r')\n",
    "for line in f:\n",
    "    print(line)"
   ]
  },
  {
   "cell_type": "code",
   "execution_count": 25,
   "id": "1cf42678",
   "metadata": {},
   "outputs": [
    {
     "name": "stdout",
     "output_type": "stream",
     "text": [
      "3\n",
      "4\n",
      "2\n",
      "6\n",
      "4\n",
      "3\n"
     ]
    }
   ],
   "source": [
    "f = open('files/note.txt' , 'r')\n",
    "for line in f:\n",
    "    print(line.strip())"
   ]
  },
  {
   "cell_type": "code",
   "execution_count": 41,
   "id": "4fa6909c",
   "metadata": {},
   "outputs": [
    {
     "name": "stdout",
     "output_type": "stream",
     "text": [
      "Average is 3.6666666666666665\n"
     ]
    }
   ],
   "source": [
    "f = open('files/note.txt' , 'r')\n",
    "counter = sum = 0\n",
    "for line in f:\n",
    "    counter += 1\n",
    "    sum += int(line)\n",
    "\n",
    "print(\"Average is\",sum/counter)"
   ]
  },
  {
   "cell_type": "markdown",
   "id": "3890e746",
   "metadata": {},
   "source": [
    "#### Readlines()"
   ]
  },
  {
   "cell_type": "code",
   "execution_count": 31,
   "id": "64e1bd8d",
   "metadata": {},
   "outputs": [
    {
     "name": "stdout",
     "output_type": "stream",
     "text": [
      "['3\\n', '4\\n', '2\\n', '6\\n', '4\\n', '3']\n"
     ]
    }
   ],
   "source": [
    "f = open('files/note.txt' , 'r')\n",
    "lines = f.readlines()\n",
    "print(lines)"
   ]
  },
  {
   "cell_type": "markdown",
   "id": "d85a368b",
   "metadata": {},
   "source": [
    "## Write"
   ]
  },
  {
   "cell_type": "markdown",
   "id": "f78a1e29",
   "metadata": {},
   "source": [
    "To write to an existing file, you must add a parameter to the open() function:\n",
    "\n",
    "\"a\" - Append - will append to the end of the file\n",
    "\n",
    "\"w\" - Write - will overwrite any existing content"
   ]
  },
  {
   "cell_type": "code",
   "execution_count": 44,
   "id": "f1433478",
   "metadata": {},
   "outputs": [
    {
     "data": {
      "text/plain": [
       "18"
      ]
     },
     "execution_count": 44,
     "metadata": {},
     "output_type": "execute_result"
    }
   ],
   "source": [
    "f = open('files/note.txt' , 'a')\n",
    "f.write(str(sum/counter))"
   ]
  },
  {
   "cell_type": "code",
   "execution_count": 45,
   "id": "680ec5c8",
   "metadata": {},
   "outputs": [],
   "source": [
    "f.close()"
   ]
  },
  {
   "cell_type": "code",
   "execution_count": 46,
   "id": "f97354ef",
   "metadata": {},
   "outputs": [
    {
     "name": "stdout",
     "output_type": "stream",
     "text": [
      "3\n",
      "4\n",
      "2\n",
      "6\n",
      "4\n",
      "33.66666666666666653.6666666666666665\n"
     ]
    }
   ],
   "source": [
    "f = open('files/note.txt' , 'r')\n",
    "print(f.read())"
   ]
  },
  {
   "cell_type": "code",
   "execution_count": null,
   "id": "a5e840db",
   "metadata": {},
   "outputs": [],
   "source": [
    "f = open(\"myfile.txt\", \"x\")"
   ]
  },
  {
   "cell_type": "markdown",
   "id": "da7fd73e",
   "metadata": {},
   "source": [
    "## Create file"
   ]
  },
  {
   "cell_type": "markdown",
   "id": "ac829cc1",
   "metadata": {},
   "source": [
    "> \"w\" - Write - Opens a file for writing, creates the file if it does not exist\n",
    "\n",
    "> \"x\" - Create - Creates the specified file, returns an error if the file exists"
   ]
  },
  {
   "cell_type": "code",
   "execution_count": 47,
   "id": "bedb76f3",
   "metadata": {},
   "outputs": [],
   "source": [
    "f = open(\"files/note2.txt\", \"x\")"
   ]
  },
  {
   "cell_type": "code",
   "execution_count": 48,
   "id": "e834721e",
   "metadata": {},
   "outputs": [],
   "source": [
    "f = open(\"files/note3.txt\", \"w\")"
   ]
  },
  {
   "cell_type": "code",
   "execution_count": 49,
   "id": "9b4051d2",
   "metadata": {},
   "outputs": [],
   "source": [
    "import os\n",
    "os.remove(\"files/note2.txt\")"
   ]
  },
  {
   "cell_type": "code",
   "execution_count": 50,
   "id": "f8bfebe1",
   "metadata": {},
   "outputs": [
    {
     "ename": "PermissionError",
     "evalue": "[WinError 32] The process cannot access the file because it is being used by another process: 'files/note3.txt'",
     "output_type": "error",
     "traceback": [
      "\u001b[1;31m---------------------------------------------------------------------------\u001b[0m",
      "\u001b[1;31mPermissionError\u001b[0m                           Traceback (most recent call last)",
      "\u001b[1;32m~\\AppData\\Local\\Temp\\ipykernel_14772\\1290951974.py\u001b[0m in \u001b[0;36m<module>\u001b[1;34m\u001b[0m\n\u001b[1;32m----> 1\u001b[1;33m \u001b[0mos\u001b[0m\u001b[1;33m.\u001b[0m\u001b[0mremove\u001b[0m\u001b[1;33m(\u001b[0m\u001b[1;34m\"files/note3.txt\"\u001b[0m\u001b[1;33m)\u001b[0m\u001b[1;33m\u001b[0m\u001b[1;33m\u001b[0m\u001b[0m\n\u001b[0m",
      "\u001b[1;31mPermissionError\u001b[0m: [WinError 32] The process cannot access the file because it is being used by another process: 'files/note3.txt'"
     ]
    }
   ],
   "source": [
    "os.remove(\"files/note3.txt\")"
   ]
  },
  {
   "cell_type": "code",
   "execution_count": 51,
   "id": "841958dd",
   "metadata": {},
   "outputs": [],
   "source": [
    "f.close()"
   ]
  },
  {
   "cell_type": "code",
   "execution_count": 52,
   "id": "cf89c1f7",
   "metadata": {},
   "outputs": [],
   "source": [
    "os.remove(\"files/note3.txt\")"
   ]
  },
  {
   "cell_type": "markdown",
   "id": "ebe4d00d",
   "metadata": {},
   "source": [
    "### Auto close"
   ]
  },
  {
   "cell_type": "code",
   "execution_count": 54,
   "id": "78856a66",
   "metadata": {},
   "outputs": [
    {
     "name": "stdout",
     "output_type": "stream",
     "text": [
      "\n"
     ]
    }
   ],
   "source": [
    "with open(\"files/note2.txt\" , \"a+\") as f:\n",
    "    f.write(\"Hello World\")\n",
    "    print(f.read())"
   ]
  },
  {
   "cell_type": "code",
   "execution_count": 55,
   "id": "91cd11b0",
   "metadata": {},
   "outputs": [],
   "source": [
    "os.remove(\"files/note2.txt\")"
   ]
  },
  {
   "cell_type": "markdown",
   "id": "75780907",
   "metadata": {},
   "source": [
    "## CSV"
   ]
  },
  {
   "cell_type": "code",
   "execution_count": null,
   "id": "723fde6c",
   "metadata": {},
   "outputs": [],
   "source": [
    "Name,Email,Phone Number,Address\n",
    "Koorosh,koorosh@yahoo.com,09120000000,Enghelab St\n",
    "Alireza,alireza@gmail.com,09123847000,Valiasr St\n",
    "Sourena,sourena@aut.ac.ir,09123933844,Taleghani St\n",
    "Kiarash,kiarash@gmail.com,09128479385,Rasht St"
   ]
  },
  {
   "cell_type": "code",
   "execution_count": 65,
   "id": "16fa2c46",
   "metadata": {},
   "outputs": [],
   "source": [
    "import pandas as pd\n",
    "df = pd.read_csv(\"files/info.csv\")"
   ]
  },
  {
   "cell_type": "code",
   "execution_count": 66,
   "id": "98f09957",
   "metadata": {},
   "outputs": [
    {
     "data": {
      "text/html": [
       "<div>\n",
       "<style scoped>\n",
       "    .dataframe tbody tr th:only-of-type {\n",
       "        vertical-align: middle;\n",
       "    }\n",
       "\n",
       "    .dataframe tbody tr th {\n",
       "        vertical-align: top;\n",
       "    }\n",
       "\n",
       "    .dataframe thead th {\n",
       "        text-align: right;\n",
       "    }\n",
       "</style>\n",
       "<table border=\"1\" class=\"dataframe\">\n",
       "  <thead>\n",
       "    <tr style=\"text-align: right;\">\n",
       "      <th></th>\n",
       "      <th>Name</th>\n",
       "      <th>Email</th>\n",
       "      <th>Phone Number</th>\n",
       "      <th>Address</th>\n",
       "    </tr>\n",
       "  </thead>\n",
       "  <tbody>\n",
       "    <tr>\n",
       "      <th>0</th>\n",
       "      <td>Koorosh</td>\n",
       "      <td>koorosh@yahoo.com</td>\n",
       "      <td>9120000000</td>\n",
       "      <td>Enghelab St</td>\n",
       "    </tr>\n",
       "    <tr>\n",
       "      <th>1</th>\n",
       "      <td>Alireza</td>\n",
       "      <td>alireza@gmail.com</td>\n",
       "      <td>9123847000</td>\n",
       "      <td>Valiasr St</td>\n",
       "    </tr>\n",
       "    <tr>\n",
       "      <th>2</th>\n",
       "      <td>Sourena</td>\n",
       "      <td>sourena@aut.ac.ir</td>\n",
       "      <td>9123933844</td>\n",
       "      <td>Taleghani St</td>\n",
       "    </tr>\n",
       "    <tr>\n",
       "      <th>3</th>\n",
       "      <td>Kiarash</td>\n",
       "      <td>kiarash@gmail.com</td>\n",
       "      <td>9128479385</td>\n",
       "      <td>Rasht St</td>\n",
       "    </tr>\n",
       "  </tbody>\n",
       "</table>\n",
       "</div>"
      ],
      "text/plain": [
       "      Name              Email  Phone Number       Address\n",
       "0  Koorosh  koorosh@yahoo.com    9120000000   Enghelab St\n",
       "1  Alireza  alireza@gmail.com    9123847000    Valiasr St\n",
       "2  Sourena  sourena@aut.ac.ir    9123933844  Taleghani St\n",
       "3  Kiarash  kiarash@gmail.com    9128479385      Rasht St"
      ]
     },
     "execution_count": 66,
     "metadata": {},
     "output_type": "execute_result"
    }
   ],
   "source": [
    "df"
   ]
  },
  {
   "cell_type": "code",
   "execution_count": null,
   "id": "39b46368",
   "metadata": {},
   "outputs": [],
   "source": [
    "Name,Math I,Math II,Chem,Farsi,Prog\n",
    "Koorosh,15,16,14,20,20\n",
    "Alireza,13,12,15,13,17\n",
    "Sourena,10,13,15,18,16\n",
    "Kiarash,14,17,13,19,20"
   ]
  },
  {
   "cell_type": "code",
   "execution_count": 124,
   "id": "8b158f6f",
   "metadata": {},
   "outputs": [],
   "source": [
    "grades = pd.read_csv(\"files/grades.csv\")"
   ]
  },
  {
   "cell_type": "code",
   "execution_count": 125,
   "id": "e73fb5fa",
   "metadata": {},
   "outputs": [
    {
     "data": {
      "text/html": [
       "<div>\n",
       "<style scoped>\n",
       "    .dataframe tbody tr th:only-of-type {\n",
       "        vertical-align: middle;\n",
       "    }\n",
       "\n",
       "    .dataframe tbody tr th {\n",
       "        vertical-align: top;\n",
       "    }\n",
       "\n",
       "    .dataframe thead th {\n",
       "        text-align: right;\n",
       "    }\n",
       "</style>\n",
       "<table border=\"1\" class=\"dataframe\">\n",
       "  <thead>\n",
       "    <tr style=\"text-align: right;\">\n",
       "      <th></th>\n",
       "      <th>Name</th>\n",
       "      <th>Math I</th>\n",
       "      <th>Math II</th>\n",
       "      <th>Chem</th>\n",
       "      <th>Farsi</th>\n",
       "      <th>Prog</th>\n",
       "    </tr>\n",
       "  </thead>\n",
       "  <tbody>\n",
       "    <tr>\n",
       "      <th>0</th>\n",
       "      <td>Koorosh</td>\n",
       "      <td>15</td>\n",
       "      <td>16</td>\n",
       "      <td>14</td>\n",
       "      <td>20</td>\n",
       "      <td>20</td>\n",
       "    </tr>\n",
       "    <tr>\n",
       "      <th>1</th>\n",
       "      <td>Alireza</td>\n",
       "      <td>13</td>\n",
       "      <td>12</td>\n",
       "      <td>15</td>\n",
       "      <td>13</td>\n",
       "      <td>17</td>\n",
       "    </tr>\n",
       "    <tr>\n",
       "      <th>2</th>\n",
       "      <td>Sourena</td>\n",
       "      <td>10</td>\n",
       "      <td>13</td>\n",
       "      <td>15</td>\n",
       "      <td>18</td>\n",
       "      <td>16</td>\n",
       "    </tr>\n",
       "    <tr>\n",
       "      <th>3</th>\n",
       "      <td>Kiarash</td>\n",
       "      <td>14</td>\n",
       "      <td>17</td>\n",
       "      <td>13</td>\n",
       "      <td>19</td>\n",
       "      <td>20</td>\n",
       "    </tr>\n",
       "  </tbody>\n",
       "</table>\n",
       "</div>"
      ],
      "text/plain": [
       "      Name  Math I  Math II  Chem  Farsi  Prog\n",
       "0  Koorosh      15       16    14     20    20\n",
       "1  Alireza      13       12    15     13    17\n",
       "2  Sourena      10       13    15     18    16\n",
       "3  Kiarash      14       17    13     19    20"
      ]
     },
     "execution_count": 125,
     "metadata": {},
     "output_type": "execute_result"
    }
   ],
   "source": [
    "grades"
   ]
  },
  {
   "cell_type": "code",
   "execution_count": 69,
   "id": "5f5b75e5",
   "metadata": {},
   "outputs": [
    {
     "name": "stdout",
     "output_type": "stream",
     "text": [
      "['Name', 'Math I', 'Math II', 'Chem', 'Farsi', 'Prog']\n",
      "['Koorosh', '15', '16', '14', '20', '20']\n",
      "['Alireza', '13', '12', '15', '13', '17']\n",
      "['Sourena', '10', '13', '15', '18', '16']\n",
      "['Kiarash', '14', '17', '13', '19', '20']\n"
     ]
    }
   ],
   "source": [
    "import csv\n",
    "with open(\"files/grades.csv\") as csvfile:\n",
    "    reader = csv.reader(csvfile)\n",
    "    for row in reader:\n",
    "        print(row)"
   ]
  },
  {
   "cell_type": "code",
   "execution_count": 110,
   "id": "27f4f04e",
   "metadata": {},
   "outputs": [
    {
     "data": {
      "text/plain": [
       "[['Name', 'Math I', 'Math II', 'Chem', 'Farsi', 'Prog'],\n",
       " ['Koorosh', '15', '16', '14', '20', '20'],\n",
       " ['Alireza', '13', '12', '15', '13', '17'],\n",
       " ['Sourena', '10', '13', '15', '18', '16'],\n",
       " ['Kiarash', '14', '17', '13', '19', '20']]"
      ]
     },
     "execution_count": 110,
     "metadata": {},
     "output_type": "execute_result"
    }
   ],
   "source": [
    "data = []\n",
    "with open(\"files/grades.csv\") as csvfile:\n",
    "    reader = csv.reader(csvfile)\n",
    "    for row in reader:\n",
    "        data.append(row)\n",
    "\n",
    "data"
   ]
  },
  {
   "cell_type": "code",
   "execution_count": 111,
   "id": "6be8f27b",
   "metadata": {},
   "outputs": [
    {
     "data": {
      "text/plain": [
       "['Name', 'Math I', 'Math II', 'Chem', 'Farsi', 'Prog']"
      ]
     },
     "execution_count": 111,
     "metadata": {},
     "output_type": "execute_result"
    }
   ],
   "source": [
    "data.pop(0)"
   ]
  },
  {
   "cell_type": "code",
   "execution_count": 112,
   "id": "9e9877da",
   "metadata": {},
   "outputs": [
    {
     "data": {
      "text/plain": [
       "[['Koorosh', '15', '16', '14', '20', '20'],\n",
       " ['Alireza', '13', '12', '15', '13', '17'],\n",
       " ['Sourena', '10', '13', '15', '18', '16'],\n",
       " ['Kiarash', '14', '17', '13', '19', '20']]"
      ]
     },
     "execution_count": 112,
     "metadata": {},
     "output_type": "execute_result"
    }
   ],
   "source": [
    "data"
   ]
  },
  {
   "cell_type": "code",
   "execution_count": 113,
   "id": "ac39e29b",
   "metadata": {},
   "outputs": [],
   "source": [
    "for i in range(len(data)):\n",
    "    for j in range(1,len(data[i])):\n",
    "        data[i][j] = int(data[i][j])"
   ]
  },
  {
   "cell_type": "code",
   "execution_count": 114,
   "id": "93d15aa6",
   "metadata": {},
   "outputs": [
    {
     "data": {
      "text/plain": [
       "[['Koorosh', 15, 16, 14, 20, 20],\n",
       " ['Alireza', 13, 12, 15, 13, 17],\n",
       " ['Sourena', 10, 13, 15, 18, 16],\n",
       " ['Kiarash', 14, 17, 13, 19, 20]]"
      ]
     },
     "execution_count": 114,
     "metadata": {},
     "output_type": "execute_result"
    }
   ],
   "source": [
    "data"
   ]
  },
  {
   "cell_type": "code",
   "execution_count": 116,
   "id": "98d9b53d",
   "metadata": {},
   "outputs": [],
   "source": [
    "from statistics import mean\n",
    "\n",
    "for i in range(len(data)):\n",
    "    data[i].append(mean(data[i][1:6]))"
   ]
  },
  {
   "cell_type": "code",
   "execution_count": 117,
   "id": "0e87a39e",
   "metadata": {},
   "outputs": [
    {
     "data": {
      "text/plain": [
       "[['Koorosh', 15, 16, 14, 20, 20, 17],\n",
       " ['Alireza', 13, 12, 15, 13, 17, 14],\n",
       " ['Sourena', 10, 13, 15, 18, 16, 14.4],\n",
       " ['Kiarash', 14, 17, 13, 19, 20, 16.6]]"
      ]
     },
     "execution_count": 117,
     "metadata": {},
     "output_type": "execute_result"
    }
   ],
   "source": [
    "data"
   ]
  },
  {
   "cell_type": "code",
   "execution_count": 119,
   "id": "aa35ba61",
   "metadata": {},
   "outputs": [
    {
     "name": "stdout",
     "output_type": "stream",
     "text": [
      "Avg of Koorosh is 17\n",
      "Avg of Alireza is 14\n",
      "Avg of Sourena is 14.4\n",
      "Avg of Kiarash is 16.6\n"
     ]
    }
   ],
   "source": [
    "for i in range(len(data)):\n",
    "    print(f\"Avg of {data[i][0]} is {data[i][-1]}\")"
   ]
  },
  {
   "cell_type": "markdown",
   "id": "050b463a",
   "metadata": {},
   "source": [
    "### Better way"
   ]
  },
  {
   "cell_type": "code",
   "execution_count": 126,
   "id": "5275ab73",
   "metadata": {},
   "outputs": [
    {
     "data": {
      "text/html": [
       "<div>\n",
       "<style scoped>\n",
       "    .dataframe tbody tr th:only-of-type {\n",
       "        vertical-align: middle;\n",
       "    }\n",
       "\n",
       "    .dataframe tbody tr th {\n",
       "        vertical-align: top;\n",
       "    }\n",
       "\n",
       "    .dataframe thead th {\n",
       "        text-align: right;\n",
       "    }\n",
       "</style>\n",
       "<table border=\"1\" class=\"dataframe\">\n",
       "  <thead>\n",
       "    <tr style=\"text-align: right;\">\n",
       "      <th></th>\n",
       "      <th>Name</th>\n",
       "      <th>Math I</th>\n",
       "      <th>Math II</th>\n",
       "      <th>Chem</th>\n",
       "      <th>Farsi</th>\n",
       "      <th>Prog</th>\n",
       "    </tr>\n",
       "  </thead>\n",
       "  <tbody>\n",
       "    <tr>\n",
       "      <th>0</th>\n",
       "      <td>Koorosh</td>\n",
       "      <td>15</td>\n",
       "      <td>16</td>\n",
       "      <td>14</td>\n",
       "      <td>20</td>\n",
       "      <td>20</td>\n",
       "    </tr>\n",
       "    <tr>\n",
       "      <th>1</th>\n",
       "      <td>Alireza</td>\n",
       "      <td>13</td>\n",
       "      <td>12</td>\n",
       "      <td>15</td>\n",
       "      <td>13</td>\n",
       "      <td>17</td>\n",
       "    </tr>\n",
       "    <tr>\n",
       "      <th>2</th>\n",
       "      <td>Sourena</td>\n",
       "      <td>10</td>\n",
       "      <td>13</td>\n",
       "      <td>15</td>\n",
       "      <td>18</td>\n",
       "      <td>16</td>\n",
       "    </tr>\n",
       "    <tr>\n",
       "      <th>3</th>\n",
       "      <td>Kiarash</td>\n",
       "      <td>14</td>\n",
       "      <td>17</td>\n",
       "      <td>13</td>\n",
       "      <td>19</td>\n",
       "      <td>20</td>\n",
       "    </tr>\n",
       "  </tbody>\n",
       "</table>\n",
       "</div>"
      ],
      "text/plain": [
       "      Name  Math I  Math II  Chem  Farsi  Prog\n",
       "0  Koorosh      15       16    14     20    20\n",
       "1  Alireza      13       12    15     13    17\n",
       "2  Sourena      10       13    15     18    16\n",
       "3  Kiarash      14       17    13     19    20"
      ]
     },
     "execution_count": 126,
     "metadata": {},
     "output_type": "execute_result"
    }
   ],
   "source": [
    "grades"
   ]
  },
  {
   "cell_type": "code",
   "execution_count": 127,
   "id": "3fb203d9",
   "metadata": {},
   "outputs": [],
   "source": [
    "grades[\"AVG\"] = grades.mean(numeric_only=True, axis='columns')"
   ]
  },
  {
   "cell_type": "code",
   "execution_count": 128,
   "id": "4789e0d0",
   "metadata": {},
   "outputs": [
    {
     "data": {
      "text/html": [
       "<div>\n",
       "<style scoped>\n",
       "    .dataframe tbody tr th:only-of-type {\n",
       "        vertical-align: middle;\n",
       "    }\n",
       "\n",
       "    .dataframe tbody tr th {\n",
       "        vertical-align: top;\n",
       "    }\n",
       "\n",
       "    .dataframe thead th {\n",
       "        text-align: right;\n",
       "    }\n",
       "</style>\n",
       "<table border=\"1\" class=\"dataframe\">\n",
       "  <thead>\n",
       "    <tr style=\"text-align: right;\">\n",
       "      <th></th>\n",
       "      <th>Name</th>\n",
       "      <th>Math I</th>\n",
       "      <th>Math II</th>\n",
       "      <th>Chem</th>\n",
       "      <th>Farsi</th>\n",
       "      <th>Prog</th>\n",
       "      <th>AVG</th>\n",
       "    </tr>\n",
       "  </thead>\n",
       "  <tbody>\n",
       "    <tr>\n",
       "      <th>0</th>\n",
       "      <td>Koorosh</td>\n",
       "      <td>15</td>\n",
       "      <td>16</td>\n",
       "      <td>14</td>\n",
       "      <td>20</td>\n",
       "      <td>20</td>\n",
       "      <td>17.0</td>\n",
       "    </tr>\n",
       "    <tr>\n",
       "      <th>1</th>\n",
       "      <td>Alireza</td>\n",
       "      <td>13</td>\n",
       "      <td>12</td>\n",
       "      <td>15</td>\n",
       "      <td>13</td>\n",
       "      <td>17</td>\n",
       "      <td>14.0</td>\n",
       "    </tr>\n",
       "    <tr>\n",
       "      <th>2</th>\n",
       "      <td>Sourena</td>\n",
       "      <td>10</td>\n",
       "      <td>13</td>\n",
       "      <td>15</td>\n",
       "      <td>18</td>\n",
       "      <td>16</td>\n",
       "      <td>14.4</td>\n",
       "    </tr>\n",
       "    <tr>\n",
       "      <th>3</th>\n",
       "      <td>Kiarash</td>\n",
       "      <td>14</td>\n",
       "      <td>17</td>\n",
       "      <td>13</td>\n",
       "      <td>19</td>\n",
       "      <td>20</td>\n",
       "      <td>16.6</td>\n",
       "    </tr>\n",
       "  </tbody>\n",
       "</table>\n",
       "</div>"
      ],
      "text/plain": [
       "      Name  Math I  Math II  Chem  Farsi  Prog   AVG\n",
       "0  Koorosh      15       16    14     20    20  17.0\n",
       "1  Alireza      13       12    15     13    17  14.0\n",
       "2  Sourena      10       13    15     18    16  14.4\n",
       "3  Kiarash      14       17    13     19    20  16.6"
      ]
     },
     "execution_count": 128,
     "metadata": {},
     "output_type": "execute_result"
    }
   ],
   "source": [
    "grades"
   ]
  },
  {
   "cell_type": "code",
   "execution_count": 129,
   "id": "e478adbd",
   "metadata": {},
   "outputs": [],
   "source": [
    "grades.to_csv('files/avg.csv', index=False)"
   ]
  },
  {
   "cell_type": "markdown",
   "id": "630d0804",
   "metadata": {},
   "source": [
    "## JSON"
   ]
  },
  {
   "cell_type": "code",
   "execution_count": 136,
   "id": "55a21ad9",
   "metadata": {},
   "outputs": [
    {
     "name": "stdout",
     "output_type": "stream",
     "text": [
      "{'name': 'John', 'age': 50, 'is_married': False, 'profession': 'programming', 'hobbies': ['traveling', 'photography']}\n"
     ]
    }
   ],
   "source": [
    "import json\n",
    "\n",
    "with open('files/data.json', 'r') as myfile:\n",
    "    data = myfile.read()\n",
    "\n",
    "obj = json.loads(data)\n",
    "\n",
    "print(obj)"
   ]
  },
  {
   "cell_type": "code",
   "execution_count": 158,
   "id": "62c009a3",
   "metadata": {},
   "outputs": [
    {
     "name": "stdout",
     "output_type": "stream",
     "text": [
      "John is 50 which his profession is programming\n"
     ]
    }
   ],
   "source": [
    "print(f\"{obj['name']} is {obj['age']} which his profession is {obj['profession']}\")"
   ]
  },
  {
   "cell_type": "code",
   "execution_count": null,
   "id": "553a4bd0",
   "metadata": {},
   "outputs": [],
   "source": [
    "import json\n",
    "import requests\n",
    "  \n",
    "key = \"https://api.binance.com/api/v3/ticker/price?symbol=BTCUSDT\"\n",
    "  \n",
    "data = requests.get(key)  \n",
    "data = data.json()\n",
    "print(f\"{data['symbol']} price is {data['price']}\")"
   ]
  },
  {
   "cell_type": "code",
   "execution_count": 1,
   "id": "5fd9b266",
   "metadata": {},
   "outputs": [
    {
     "name": "stdout",
     "output_type": "stream",
     "text": [
      "The current Bitcoin price is 22,082.7722 USD\n"
     ]
    }
   ],
   "source": [
    "import requests\n",
    "\n",
    "url = \"https://api.coindesk.com/v1/bpi/currentprice.json\"\n",
    "\n",
    "response = requests.get(url)\n",
    "if response.status_code == 200:\n",
    "    data = response.json()\n",
    "    btc_price = data[\"bpi\"][\"USD\"][\"rate\"]\n",
    "    print(f\"The current Bitcoin price is {btc_price} USD\")\n",
    "else:\n",
    "    print(\"Failed to retrieve Bitcoin price from the API\")\n"
   ]
  }
 ],
 "metadata": {
  "kernelspec": {
   "display_name": "Python 3 (ipykernel)",
   "language": "python",
   "name": "python3"
  },
  "language_info": {
   "codemirror_mode": {
    "name": "ipython",
    "version": 3
   },
   "file_extension": ".py",
   "mimetype": "text/x-python",
   "name": "python",
   "nbconvert_exporter": "python",
   "pygments_lexer": "ipython3",
   "version": "3.9.13"
  },
  "vscode": {
   "interpreter": {
    "hash": "5a9a88a2c5b02ee7ff381c78ebfd1e5fdda0d3e731376f9b886f7f81c83cc469"
   }
  }
 },
 "nbformat": 4,
 "nbformat_minor": 5
}
